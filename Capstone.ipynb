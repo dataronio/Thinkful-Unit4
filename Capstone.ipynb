{
 "cells": [
  {
   "cell_type": "code",
   "execution_count": 89,
   "metadata": {},
   "outputs": [],
   "source": [
    "%matplotlib inline\n",
    "import numpy as np\n",
    "import pandas as pd\n",
    "import scipy\n",
    "import sklearn\n",
    "import spacy\n",
    "import matplotlib.pyplot as plt\n",
    "import seaborn as sns\n",
    "import re\n",
    "\n",
    "from collections import Counter\n",
    "\n",
    "from sklearn.model_selection import train_test_split\n",
    "from sklearn.feature_extraction.text import TfidfVectorizer\n",
    "from sklearn.feature_extraction.text import CountVectorizer\n",
    "from sklearn.decomposition import TruncatedSVD\n",
    "from sklearn.pipeline import make_pipeline\n",
    "from sklearn.preprocessing import Normalizer\n",
    "\n",
    "from bs4 import BeautifulSoup\n",
    "from nltk.tokenize import WordPunctTokenizer\n",
    "from nltk.corpus import stopwords # Import the stop word list\n",
    "\n",
    "\n",
    "import math\n",
    "import json\n",
    "import csv\n",
    "from collections import Counter\n",
    "\n",
    "from sklearn.svm import SVC\n",
    "from sklearn.linear_model import LogisticRegression\n",
    "from sklearn.neighbors import KNeighborsClassifier\n",
    "from sklearn import neural_network\n",
    "from sklearn.model_selection import GridSearchCV\n",
    "from sklearn import ensemble\n",
    "from sklearn.decomposition import PCA\n",
    "from sklearn.cluster import MeanShift, estimate_bandwidth\n",
    "from sklearn.cluster import KMeans, MiniBatchKMeans\n",
    "from sklearn import metrics\n",
    "from sklearn.metrics import confusion_matrix\n",
    "from sklearn.metrics.pairwise import cosine_similarity\n",
    "from sklearn.model_selection import cross_val_score\n",
    "\n",
    "import warnings\n",
    "warnings.filterwarnings(\"ignore\")"
   ]
  },
  {
   "cell_type": "markdown",
   "metadata": {},
   "source": [
    "# Load Data #\n",
    "\n",
    "* We have selected 10 individuals who are business or social celebrities.\n",
    "\n",
    "* They are each extremely popular on Twitter and have tens of millions of followers."
   ]
  },
  {
   "cell_type": "code",
   "execution_count": 90,
   "metadata": {},
   "outputs": [],
   "source": [
    "elonmusk = pd.read_csv('../data/elonmusk_tweets.csv')\n",
    "NASA = pd.read_csv('../data/NASA_tweets.csv')\n",
    "nytimes = pd.read_csv('../data/nytimes_tweets.csv')\n",
    "espn = pd.read_csv('../data/espn_tweets.csv')\n",
    "JamesWoods = pd.read_csv('../data/RealJamesWoods_tweets.csv')\n",
    "katyperry = pd.read_csv('../data/katyperry_tweets.csv')\n",
    "ScottAdams = pd.read_csv('../data/ScottAdamsSays_tweets.csv')\n",
    "WilliamShatner = pd.read_csv('../data/WilliamShatner_tweets.csv')\n",
    "tim_cook = pd.read_csv('../data/tim_cook_tweets.csv')\n",
    "BillGates = pd.read_csv('../data/BillGates_tweets.csv')"
   ]
  },
  {
   "cell_type": "code",
   "execution_count": 91,
   "metadata": {},
   "outputs": [
    {
     "data": {
      "text/html": [
       "<div>\n",
       "<style scoped>\n",
       "    .dataframe tbody tr th:only-of-type {\n",
       "        vertical-align: middle;\n",
       "    }\n",
       "\n",
       "    .dataframe tbody tr th {\n",
       "        vertical-align: top;\n",
       "    }\n",
       "\n",
       "    .dataframe thead th {\n",
       "        text-align: right;\n",
       "    }\n",
       "</style>\n",
       "<table border=\"1\" class=\"dataframe\">\n",
       "  <thead>\n",
       "    <tr style=\"text-align: right;\">\n",
       "      <th></th>\n",
       "      <th>text</th>\n",
       "      <th>author</th>\n",
       "    </tr>\n",
       "  </thead>\n",
       "  <tbody>\n",
       "    <tr>\n",
       "      <th>0</th>\n",
       "      <td>@furburglarr Biased hater, like yourself. Evid...</td>\n",
       "      <td>ScottAdamsSays</td>\n",
       "    </tr>\n",
       "    <tr>\n",
       "      <th>1</th>\n",
       "      <td>@theboxerdeli Rarely does any one variable exp...</td>\n",
       "      <td>ScottAdamsSays</td>\n",
       "    </tr>\n",
       "    <tr>\n",
       "      <th>2</th>\n",
       "      <td>@CJFerguson1111 @ejdo0lz The \"vulnerable popul...</td>\n",
       "      <td>ScottAdamsSays</td>\n",
       "    </tr>\n",
       "    <tr>\n",
       "      <th>3</th>\n",
       "      <td>@freldmen @JackPosobiec Thanks for noticing!</td>\n",
       "      <td>ScottAdamsSays</td>\n",
       "    </tr>\n",
       "    <tr>\n",
       "      <th>4</th>\n",
       "      <td>@CJFerguson1111 @ejdo0lz These studies don't a...</td>\n",
       "      <td>ScottAdamsSays</td>\n",
       "    </tr>\n",
       "  </tbody>\n",
       "</table>\n",
       "</div>"
      ],
      "text/plain": [
       "                                                text          author\n",
       "0  @furburglarr Biased hater, like yourself. Evid...  ScottAdamsSays\n",
       "1  @theboxerdeli Rarely does any one variable exp...  ScottAdamsSays\n",
       "2  @CJFerguson1111 @ejdo0lz The \"vulnerable popul...  ScottAdamsSays\n",
       "3       @freldmen @JackPosobiec Thanks for noticing!  ScottAdamsSays\n",
       "4  @CJFerguson1111 @ejdo0lz These studies don't a...  ScottAdamsSays"
      ]
     },
     "execution_count": 91,
     "metadata": {},
     "output_type": "execute_result"
    }
   ],
   "source": [
    "ScottAdams.head()"
   ]
  },
  {
   "cell_type": "markdown",
   "metadata": {},
   "source": [
    "# Tokenizer #\n",
    "\n",
    "* Step 1 - Call Beautiful Soup to clean out HTML fragments in tweets.\n",
    "\n",
    "* Step 2 - Strip url's and keep only letters and numbers\n",
    "\n",
    "* Step 3 - Strip out utf-8 tags\n",
    "\n",
    "* Step 4 - Lower case and tokenize\n",
    "\n",
    "* Note: I do not take out stop words"
   ]
  },
  {
   "cell_type": "code",
   "execution_count": 92,
   "metadata": {},
   "outputs": [],
   "source": [
    "\n",
    "tok = WordPunctTokenizer()\n",
    "pat1 = r'@[A-Za-z0-9]+'\n",
    "pat2 = r'https?://[A-Za-z0-9./]+'\n",
    "combined_pat = r'|'.join((pat1, pat2))\n",
    "\n",
    "def clean_tweet(raw_tweet):\n",
    "    # 1. Remove HTML\n",
    "    soup = BeautifulSoup(raw_tweet)\n",
    "    souped = soup.get_text()\n",
    "    #\n",
    "    # 2. Remove non-letters        \n",
    "    #letters_only = re.sub(\"[^a-zA-Z]\", \" \", review_text)\n",
    "    stripped = re.sub(combined_pat, '', souped)\n",
    "    try:\n",
    "        clean = stripped.decode(\"utf-8-sig\").replace(u\"\\ufffd\", \"?\")\n",
    "    except:\n",
    "        clean = stripped\n",
    "    letters_only = re.sub(\"[^a-zA-Z]\", \" \", clean)\n",
    "    #\n",
    "    # 3. Convert to lower case, split into individual words\n",
    "    lower_case = letters_only.lower()                             \n",
    "    #\n",
    "    # 4. In Python, searching a set is much faster than searching\n",
    "    #   a list, so convert the stop words to a set\n",
    "    #stops = set(stopwords.words(\"english\"))                  \n",
    "    # \n",
    "    # 5. Remove stop words\n",
    "    #meaningful_words = [w for w in words if not w in stops]   \n",
    "    #\n",
    "    # 6. Join the words back into one string separated by space, \n",
    "    # and return the result.\n",
    "    #return( \" \".join( meaningful_words ))   \n",
    "    words = tok.tokenize(lower_case)\n",
    "    return (\" \".join(words)).strip()\n",
    "    "
   ]
  },
  {
   "cell_type": "code",
   "execution_count": 93,
   "metadata": {},
   "outputs": [],
   "source": [
    "tweeters = [elonmusk,NASA,nytimes,espn,JamesWoods,katyperry,ScottAdams,WilliamShatner,tim_cook,BillGates]\n",
    "for item in tweeters:\n",
    "    for i in range(len(item)):\n",
    "        item['text'][i] = clean_tweet(item['text'][i])"
   ]
  },
  {
   "cell_type": "code",
   "execution_count": 94,
   "metadata": {},
   "outputs": [
    {
     "data": {
      "text/html": [
       "<div>\n",
       "<style scoped>\n",
       "    .dataframe tbody tr th:only-of-type {\n",
       "        vertical-align: middle;\n",
       "    }\n",
       "\n",
       "    .dataframe tbody tr th {\n",
       "        vertical-align: top;\n",
       "    }\n",
       "\n",
       "    .dataframe thead th {\n",
       "        text-align: right;\n",
       "    }\n",
       "</style>\n",
       "<table border=\"1\" class=\"dataframe\">\n",
       "  <thead>\n",
       "    <tr style=\"text-align: right;\">\n",
       "      <th></th>\n",
       "      <th>text</th>\n",
       "      <th>author</th>\n",
       "    </tr>\n",
       "  </thead>\n",
       "  <tbody>\n",
       "    <tr>\n",
       "      <th>0</th>\n",
       "      <td>at smarter advising is helping students go fur...</td>\n",
       "      <td>BillGates</td>\n",
       "    </tr>\n",
       "    <tr>\n",
       "      <th>1</th>\n",
       "      <td>glad to see this story told i m always inspire...</td>\n",
       "      <td>BillGates</td>\n",
       "    </tr>\n",
       "    <tr>\n",
       "      <th>2</th>\n",
       "      <td>in the early days of microsoft i felt pretty c...</td>\n",
       "      <td>BillGates</td>\n",
       "    </tr>\n",
       "    <tr>\n",
       "      <th>3</th>\n",
       "      <td>france has been a leading champion in the figh...</td>\n",
       "      <td>BillGates</td>\n",
       "    </tr>\n",
       "    <tr>\n",
       "      <th>4</th>\n",
       "      <td>i recently caught a glimpse at the future of h...</td>\n",
       "      <td>BillGates</td>\n",
       "    </tr>\n",
       "    <tr>\n",
       "      <th>5</th>\n",
       "      <td>my visit to made me wish i could be a college ...</td>\n",
       "      <td>BillGates</td>\n",
       "    </tr>\n",
       "    <tr>\n",
       "      <th>6</th>\n",
       "      <td>exciting to see how digital tech combined with...</td>\n",
       "      <td>BillGates</td>\n",
       "    </tr>\n",
       "    <tr>\n",
       "      <th>7</th>\n",
       "      <td>dollar street is a beautiful reminder that we ...</td>\n",
       "      <td>BillGates</td>\n",
       "    </tr>\n",
       "    <tr>\n",
       "      <th>8</th>\n",
       "      <td>rt wants to thankateacher michaela raikes an i...</td>\n",
       "      <td>BillGates</td>\n",
       "    </tr>\n",
       "    <tr>\n",
       "      <th>9</th>\n",
       "      <td>cat ladies are everywhere nearly everyone has ...</td>\n",
       "      <td>BillGates</td>\n",
       "    </tr>\n",
       "    <tr>\n",
       "      <th>10</th>\n",
       "      <td>i m obsessed with this website</td>\n",
       "      <td>BillGates</td>\n",
       "    </tr>\n",
       "    <tr>\n",
       "      <th>11</th>\n",
       "      <td>i m incredibly optimistic about india s future...</td>\n",
       "      <td>BillGates</td>\n",
       "    </tr>\n",
       "    <tr>\n",
       "      <th>12</th>\n",
       "      <td>blanche caffiere changed my life she kept me c...</td>\n",
       "      <td>BillGates</td>\n",
       "    </tr>\n",
       "    <tr>\n",
       "      <th>13</th>\n",
       "      <td>real world superheroes rarely make the headlin...</td>\n",
       "      <td>BillGates</td>\n",
       "    </tr>\n",
       "    <tr>\n",
       "      <th>14</th>\n",
       "      <td>the students who joined melinda and me for thi...</td>\n",
       "      <td>BillGates</td>\n",
       "    </tr>\n",
       "    <tr>\n",
       "      <th>15</th>\n",
       "      <td>america s financial aid system is failing the ...</td>\n",
       "      <td>BillGates</td>\n",
       "    </tr>\n",
       "    <tr>\n",
       "      <th>16</th>\n",
       "      <td>a universal flu vaccine would be a huge boon t...</td>\n",
       "      <td>BillGates</td>\n",
       "    </tr>\n",
       "  </tbody>\n",
       "</table>\n",
       "</div>"
      ],
      "text/plain": [
       "                                                 text     author\n",
       "0   at smarter advising is helping students go fur...  BillGates\n",
       "1   glad to see this story told i m always inspire...  BillGates\n",
       "2   in the early days of microsoft i felt pretty c...  BillGates\n",
       "3   france has been a leading champion in the figh...  BillGates\n",
       "4   i recently caught a glimpse at the future of h...  BillGates\n",
       "5   my visit to made me wish i could be a college ...  BillGates\n",
       "6   exciting to see how digital tech combined with...  BillGates\n",
       "7   dollar street is a beautiful reminder that we ...  BillGates\n",
       "8   rt wants to thankateacher michaela raikes an i...  BillGates\n",
       "9   cat ladies are everywhere nearly everyone has ...  BillGates\n",
       "10                     i m obsessed with this website  BillGates\n",
       "11  i m incredibly optimistic about india s future...  BillGates\n",
       "12  blanche caffiere changed my life she kept me c...  BillGates\n",
       "13  real world superheroes rarely make the headlin...  BillGates\n",
       "14  the students who joined melinda and me for thi...  BillGates\n",
       "15  america s financial aid system is failing the ...  BillGates\n",
       "16  a universal flu vaccine would be a huge boon t...  BillGates"
      ]
     },
     "execution_count": 94,
     "metadata": {},
     "output_type": "execute_result"
    }
   ],
   "source": [
    "BillGates[:17]"
   ]
  },
  {
   "cell_type": "code",
   "execution_count": 95,
   "metadata": {},
   "outputs": [],
   "source": [
    "# Initialize the \"CountVectorizer\" object, which is scikit-learn's\n",
    "# bag of words tool.  \n",
    "count_vect = CountVectorizer()"
   ]
  },
  {
   "cell_type": "code",
   "execution_count": 96,
   "metadata": {},
   "outputs": [],
   "source": [
    "total_data =  pd.concat(tweeters)"
   ]
  },
  {
   "cell_type": "code",
   "execution_count": 97,
   "metadata": {},
   "outputs": [
    {
     "data": {
      "text/html": [
       "<div>\n",
       "<style scoped>\n",
       "    .dataframe tbody tr th:only-of-type {\n",
       "        vertical-align: middle;\n",
       "    }\n",
       "\n",
       "    .dataframe tbody tr th {\n",
       "        vertical-align: top;\n",
       "    }\n",
       "\n",
       "    .dataframe thead th {\n",
       "        text-align: right;\n",
       "    }\n",
       "</style>\n",
       "<table border=\"1\" class=\"dataframe\">\n",
       "  <thead>\n",
       "    <tr style=\"text-align: right;\">\n",
       "      <th></th>\n",
       "      <th>text</th>\n",
       "      <th>author</th>\n",
       "    </tr>\n",
       "  </thead>\n",
       "  <tbody>\n",
       "    <tr>\n",
       "      <th>2510</th>\n",
       "      <td>my new website is live check out www thegatesn...</td>\n",
       "      <td>BillGates</td>\n",
       "    </tr>\n",
       "    <tr>\n",
       "      <th>2511</th>\n",
       "      <td>many people are asking how hey can help in hai...</td>\n",
       "      <td>BillGates</td>\n",
       "    </tr>\n",
       "    <tr>\n",
       "      <th>2512</th>\n",
       "      <td>thanks to you and all the other people who hav...</td>\n",
       "      <td>BillGates</td>\n",
       "    </tr>\n",
       "    <tr>\n",
       "      <th>2513</th>\n",
       "      <td>thanks for your work on this it will have a re...</td>\n",
       "      <td>BillGates</td>\n",
       "    </tr>\n",
       "    <tr>\n",
       "      <th>2514</th>\n",
       "      <td>hello world hard at work on my foundation lett...</td>\n",
       "      <td>BillGates</td>\n",
       "    </tr>\n",
       "  </tbody>\n",
       "</table>\n",
       "</div>"
      ],
      "text/plain": [
       "                                                   text     author\n",
       "2510  my new website is live check out www thegatesn...  BillGates\n",
       "2511  many people are asking how hey can help in hai...  BillGates\n",
       "2512  thanks to you and all the other people who hav...  BillGates\n",
       "2513  thanks for your work on this it will have a re...  BillGates\n",
       "2514  hello world hard at work on my foundation lett...  BillGates"
      ]
     },
     "execution_count": 97,
     "metadata": {},
     "output_type": "execute_result"
    }
   ],
   "source": [
    "total_data.tail()"
   ]
  },
  {
   "cell_type": "code",
   "execution_count": 98,
   "metadata": {},
   "outputs": [
    {
     "data": {
      "text/html": [
       "<div>\n",
       "<style scoped>\n",
       "    .dataframe tbody tr th:only-of-type {\n",
       "        vertical-align: middle;\n",
       "    }\n",
       "\n",
       "    .dataframe tbody tr th {\n",
       "        vertical-align: top;\n",
       "    }\n",
       "\n",
       "    .dataframe thead th {\n",
       "        text-align: right;\n",
       "    }\n",
       "</style>\n",
       "<table border=\"1\" class=\"dataframe\">\n",
       "  <thead>\n",
       "    <tr style=\"text-align: right;\">\n",
       "      <th></th>\n",
       "      <th>text</th>\n",
       "      <th>author</th>\n",
       "    </tr>\n",
       "  </thead>\n",
       "  <tbody>\n",
       "    <tr>\n",
       "      <th>0</th>\n",
       "      <td>s yes</td>\n",
       "      <td>elonmusk</td>\n",
       "    </tr>\n",
       "    <tr>\n",
       "      <th>1</th>\n",
       "      <td>exactly</td>\n",
       "      <td>elonmusk</td>\n",
       "    </tr>\n",
       "    <tr>\n",
       "      <th>2</th>\n",
       "      <td>they can form a union whenever they want there...</td>\n",
       "      <td>elonmusk</td>\n",
       "    </tr>\n",
       "    <tr>\n",
       "      <th>3</th>\n",
       "      <td>upgrade to the latest s nothing will give you ...</td>\n",
       "      <td>elonmusk</td>\n",
       "    </tr>\n",
       "    <tr>\n",
       "      <th>4</th>\n",
       "      <td>soto they are correct it s awesome second best...</td>\n",
       "      <td>elonmusk</td>\n",
       "    </tr>\n",
       "  </tbody>\n",
       "</table>\n",
       "</div>"
      ],
      "text/plain": [
       "                                                text    author\n",
       "0                                              s yes  elonmusk\n",
       "1                                            exactly  elonmusk\n",
       "2  they can form a union whenever they want there...  elonmusk\n",
       "3  upgrade to the latest s nothing will give you ...  elonmusk\n",
       "4  soto they are correct it s awesome second best...  elonmusk"
      ]
     },
     "execution_count": 98,
     "metadata": {},
     "output_type": "execute_result"
    }
   ],
   "source": [
    "total_data.head()"
   ]
  },
  {
   "cell_type": "code",
   "execution_count": 99,
   "metadata": {},
   "outputs": [],
   "source": [
    "X = total_data.drop(['author'])\n",
    "y = total_data['author']"
   ]
  },
  {
   "cell_type": "code",
   "execution_count": 100,
   "metadata": {},
   "outputs": [],
   "source": [
    "X_train, X_test, y_train, y_test = train_test_split(X, y, test_size=0.25, random_state=42)"
   ]
  },
  {
   "cell_type": "code",
   "execution_count": 101,
   "metadata": {},
   "outputs": [],
   "source": [
    "train_data_bow = count_vect.fit_transform(X_train['text'])\n",
    "test_data_bow = count_vect.transform(X_test['text'])"
   ]
  },
  {
   "cell_type": "code",
   "execution_count": 102,
   "metadata": {},
   "outputs": [],
   "source": [
    "tfid_vect = TfidfVectorizer()"
   ]
  },
  {
   "cell_type": "code",
   "execution_count": 16,
   "metadata": {},
   "outputs": [],
   "source": [
    "train_data_tfid = tfid_vect.fit_transform(X_train['text'])\n",
    "\n",
    "test_data_tfid = tfid_vect.transform(X_test['text'])"
   ]
  },
  {
   "cell_type": "code",
   "execution_count": 17,
   "metadata": {},
   "outputs": [
    {
     "data": {
      "text/plain": [
       "(19118, 19920)"
      ]
     },
     "execution_count": 17,
     "metadata": {},
     "output_type": "execute_result"
    }
   ],
   "source": [
    "train_data_tfid.shape"
   ]
  },
  {
   "cell_type": "code",
   "execution_count": 17,
   "metadata": {},
   "outputs": [
    {
     "name": "stdout",
     "output_type": "stream",
     "text": [
      "Cross-Valid Fold Results are:  [ 0.47703549  0.48173278  0.48223615  0.45297806  0.48353372  0.46338912\n",
      "  0.47434555  0.47798742  0.48584906  0.45568956]\n",
      "Mean of Folds are =  0.47347769088\n"
     ]
    }
   ],
   "source": [
    "rfc = ensemble.RandomForestClassifier()\n",
    "crs = cross_val_score(rfc, train_data_bow, y_train, cv=10)\n",
    "print(\"Cross-Valid Fold Results are: \",crs)\n",
    "print(\"Mean of Folds are = \",crs.mean())"
   ]
  },
  {
   "cell_type": "code",
   "execution_count": 18,
   "metadata": {},
   "outputs": [
    {
     "name": "stdout",
     "output_type": "stream",
     "text": [
      "Cross-Valid Fold Results are:  [ 0.12160752  0.12160752  0.12173459  0.12173459  0.12127548  0.12133891\n",
      "  0.12146597  0.12159329  0.12159329  0.12165705]\n",
      "Mean of Folds are =  0.121560820584\n"
     ]
    }
   ],
   "source": [
    "svc = SVC()\n",
    " crs =cross_val_score(svc, train_data_bow, y_train, cv=10)\n",
    "print(\"Cross-Valid Fold Results are: \",crs)\n",
    "print(\"Mean of Folds are = \",crs.mean())"
   ]
  },
  {
   "cell_type": "code",
   "execution_count": 29,
   "metadata": {},
   "outputs": [
    {
     "name": "stdout",
     "output_type": "stream",
     "text": [
      "Cross-Valid Fold Results are:  [ 0.63308977  0.63152401  0.63113898  0.62068966  0.62624151  0.62656904\n",
      "  0.6434555   0.61792453  0.62893082  0.63398007]\n",
      "Mean of Folds are =  0.62935438697\n"
     ]
    }
   ],
   "source": [
    "svcl = SVC(kernel='linear')\n",
    "crs =cross_val_score(svcl, train_data_bow, y_train, cv=10)\n",
    "print(\"Cross-Valid Fold Results are: \",crs)\n",
    "print(\"Mean of Folds are = \",crs.mean())"
   ]
  },
  {
   "cell_type": "code",
   "execution_count": 18,
   "metadata": {},
   "outputs": [
    {
     "name": "stdout",
     "output_type": "stream",
     "text": [
      "Cross-Valid Fold Results are:  [ 0.56680585  0.55323591  0.56217346  0.53761755  0.55514898  0.55073222\n",
      "  0.55863874  0.54035639  0.55765199  0.56056633]\n",
      "Mean of Folds are =  0.554292742923\n"
     ]
    }
   ],
   "source": [
    "gbc = ensemble.GradientBoostingClassifier()\n",
    "crs =cross_val_score(gbc, train_data_bow, y_train, cv=10)\n",
    "print(\"Cross-Valid Fold Results are: \",crs)\n",
    "print(\"Mean of Folds are = \",crs.mean())"
   ]
  },
  {
   "cell_type": "code",
   "execution_count": 19,
   "metadata": {},
   "outputs": [
    {
     "name": "stdout",
     "output_type": "stream",
     "text": [
      "Cross-Valid Fold Results are:  [ 0.69467641  0.68528184  0.68599791  0.68129572  0.69942499  0.68305439\n",
      "  0.70052356  0.68658281  0.70178197  0.67960147]\n",
      "Mean of Folds are =  0.689822106086\n"
     ]
    }
   ],
   "source": [
    "lr = LogisticRegression()\n",
    "crs = cross_val_score(lr, train_data_bow, y_train, cv=10)\n",
    "print(\"Cross-Valid Fold Results are: \",crs)\n",
    "print(\"Mean of Folds are = \",crs.mean())"
   ]
  },
  {
   "cell_type": "code",
   "execution_count": 22,
   "metadata": {},
   "outputs": [
    {
     "name": "stdout",
     "output_type": "stream",
     "text": [
      "lam is  0.01\n",
      "Cross-Valid Ridge Fold Results are:  [ 0.51356994  0.50626305  0.51358412  0.48641588  0.50548876  0.51202929\n",
      "  0.50104712  0.48689727  0.51781971  0.50760357]\n",
      "Mean of Folds are =  0.505071870256\n",
      "\n",
      "Cross-Valid Lasso Fold Results are:  [ 0.26983299  0.26409186  0.26802508  0.26071055  0.27025614  0.26412134\n",
      "  0.26544503  0.24895178  0.25786164  0.27372837]\n",
      "Mean of Folds are =  0.264302476924\n",
      "\n",
      "lam is  0.1\n",
      "Cross-Valid Ridge Fold Results are:  [ 0.64352818  0.64300626  0.64211076  0.62382445  0.63460533  0.65115063\n",
      "  0.64188482  0.62840671  0.64622642  0.64079706]\n",
      "Mean of Folds are =  0.639554062442\n",
      "\n",
      "Cross-Valid Lasso Fold Results are:  [ 0.52922756  0.51983299  0.52403344  0.51097179  0.52744381  0.52719665\n",
      "  0.52460733  0.51415094  0.51991614  0.54011536]\n",
      "Mean of Folds are =  0.523749600596\n",
      "\n",
      "lam is  0.2\n",
      "Cross-Valid Ridge Fold Results are:  [ 0.66231733  0.65866388  0.66405434  0.65360502  0.65917407  0.67468619\n",
      "  0.66649215  0.64884696  0.66666667  0.6654431 ]\n",
      "Mean of Folds are =  0.661994970539\n",
      "\n",
      "Cross-Valid Lasso Fold Results are:  [ 0.59290188  0.59029228  0.58672936  0.55747126  0.57605855  0.5957113\n",
      "  0.58586387  0.56289308  0.58228512  0.59622444]\n",
      "Mean of Folds are =  0.5826431133\n",
      "\n",
      "lam is  0.3\n",
      "Cross-Valid Ridge Fold Results are:  [ 0.6691023   0.66231733  0.67241379  0.66666667  0.67642446  0.67416318\n",
      "  0.68272251  0.66404612  0.68343816  0.67173571]\n",
      "Mean of Folds are =  0.672303022845\n",
      "\n",
      "Cross-Valid Lasso Fold Results are:  [ 0.62160752  0.61638831  0.607628    0.59143156  0.60428646  0.62029289\n",
      "  0.61937173  0.58962264  0.60587002  0.61877294]\n",
      "Mean of Folds are =  0.609527206586\n",
      "\n",
      "lam is  0.4\n",
      "Cross-Valid Ridge Fold Results are:  [ 0.67640919  0.66753653  0.67711599  0.67241379  0.67851542  0.67730126\n",
      "  0.69162304  0.67138365  0.68553459  0.67330886]\n",
      "Mean of Folds are =  0.677114231458\n",
      "\n",
      "Cross-Valid Lasso Fold Results are:  [ 0.63935282  0.62734864  0.62748171  0.61546499  0.62780972  0.62761506\n",
      "  0.63769634  0.60796646  0.6278826   0.64027268]\n",
      "Mean of Folds are =  0.627889102684\n",
      "\n",
      "lam is  0.5\n",
      "Cross-Valid Ridge Fold Results are:  [ 0.68319415  0.67484342  0.67607106  0.67816092  0.68844746  0.67887029\n",
      "  0.69267016  0.6745283   0.69549266  0.67330886]\n",
      "Mean of Folds are =  0.681558729433\n",
      "\n",
      "Cross-Valid Lasso Fold Results are:  [ 0.6388309   0.63308977  0.64994775  0.63270637  0.6408782   0.64121339\n",
      "  0.64816754  0.62631027  0.64203354  0.64394337]\n",
      "Mean of Folds are =  0.639712110776\n",
      "\n",
      "lam is  0.6\n",
      "Cross-Valid Ridge Fold Results are:  [ 0.68893528  0.67588727  0.67711599  0.68129572  0.69053842  0.67887029\n",
      "  0.69528796  0.67767296  0.69654088  0.67645517]\n",
      "Mean of Folds are =  0.68385999242\n",
      "\n",
      "Cross-Valid Lasso Fold Results are:  [ 0.64509395  0.64718163  0.65203762  0.6400209   0.64453738  0.64225941\n",
      "  0.65811518  0.63679245  0.6509434   0.65076036]\n",
      "Mean of Folds are =  0.646774226927\n",
      "\n",
      "lam is  0.7\n",
      "Cross-Valid Ridge Fold Results are:  [ 0.69206681  0.68580376  0.68077325  0.68129572  0.69367486  0.68043933\n",
      "  0.69895288  0.68343816  0.69444444  0.67907708]\n",
      "Mean of Folds are =  0.686996627957\n",
      "\n",
      "Cross-Valid Lasso Fold Results are:  [ 0.65709812  0.65866388  0.65412748  0.64733542  0.65969681  0.64225941\n",
      "  0.65968586  0.64098532  0.66194969  0.65390666]\n",
      "Mean of Folds are =  0.653570866864\n",
      "\n",
      "lam is  0.8\n",
      "Cross-Valid Ridge Fold Results are:  [ 0.69258873  0.68528184  0.68599791  0.68025078  0.6941976   0.68253138\n",
      "  0.70157068  0.68343816  0.6975891   0.68065024]\n",
      "Mean of Folds are =  0.688409640393\n",
      "\n",
      "Cross-Valid Lasso Fold Results are:  [ 0.66022965  0.65866388  0.65726228  0.65047022  0.66440146  0.64853556\n",
      "  0.65811518  0.64465409  0.66561845  0.65810173]\n",
      "Mean of Folds are =  0.656605250449\n",
      "\n",
      "lam is  0.9\n",
      "Cross-Valid Ridge Fold Results are:  [ 0.69415449  0.68371608  0.68599791  0.68077325  0.69628855  0.68305439\n",
      "  0.70052356  0.68396226  0.70020964  0.68117462]\n",
      "Mean of Folds are =  0.688985475665\n",
      "\n",
      "Cross-Valid Lasso Fold Results are:  [ 0.66440501  0.65970772  0.65778474  0.66039707  0.66283325  0.65271967\n",
      "  0.66073298  0.6509434   0.66981132  0.65757735]\n",
      "Mean of Folds are =  0.659691251242\n",
      "\n",
      "lam is  1.0\n",
      "Cross-Valid Ridge Fold Results are:  [ 0.69467641  0.68528184  0.68599791  0.68129572  0.69942499  0.68305439\n",
      "  0.70052356  0.68658281  0.70178197  0.67960147]\n",
      "Mean of Folds are =  0.689822106086\n",
      "\n",
      "Cross-Valid Lasso Fold Results are:  [ 0.66753653  0.66544885  0.6630094   0.65987461  0.66387872  0.65533473\n",
      "  0.66544503  0.65356394  0.6687631   0.6591505 ]\n",
      "Mean of Folds are =  0.662200541968\n",
      "\n"
     ]
    }
   ],
   "source": [
    "lams = [0.01,.1,.2,.3,.4,.5,.6,.7,.8,.9,1.0]\n",
    "\n",
    "for lam in lams:\n",
    "    ridge = LogisticRegression(C=lam, penalty='l2')\n",
    "    #ridge.fit(train_data_bow, y_train)\n",
    "    crs = cross_val_score(ridge, train_data_bow, y_train, cv=10)\n",
    "    print(\"lam is \",lam)\n",
    "    print(\"Cross-Valid Ridge Fold Results are: \",crs)\n",
    "    print(\"Mean of Folds are = \",crs.mean())\n",
    "    \n",
    "    lasso = LogisticRegression(C=lam, penalty='l1')\n",
    "    #lasso.fit(train_data_bow, y_train)\n",
    "    crs = cross_val_score(lasso, train_data_bow, y_train, cv=10)\n",
    "    print()\n",
    "    print(\"Cross-Valid Lasso Fold Results are: \",crs)\n",
    "    print(\"Mean of Folds are = \",crs.mean())\n",
    "    print()\n",
    "    \n",
    "    #print(\"Ridge scoring for {:3f} is {:3f}\".format(lam, ridge.score(train_data_bow, y_test)))\n",
    "    #print(\"Lasso scoring for {:3f} is {:3f}\".format(lam, lasso.score(train_data_bow, y_test)))"
   ]
  },
  {
   "cell_type": "markdown",
   "metadata": {},
   "source": [
    "# Experiment with Bigrams #"
   ]
  },
  {
   "cell_type": "code",
   "execution_count": 103,
   "metadata": {},
   "outputs": [],
   "source": [
    "count_vect_bigram = CountVectorizer(ngram_range=(1,2))\n",
    "train_data_bow_bigram = count_vect_bigram.fit_transform(X_train['text'])\n",
    "test_data_bow_bigram = count_vect_bigram.transform(X_test['text'])"
   ]
  },
  {
   "cell_type": "code",
   "execution_count": 27,
   "metadata": {},
   "outputs": [
    {
     "name": "stdout",
     "output_type": "stream",
     "text": [
      "Cross-Valid Bigram Fold Results are:  [ 0.69206681  0.69258873  0.69017764  0.68913271  0.71092525  0.68985356\n",
      "  0.69685864  0.68343816  0.68867925  0.68589407]\n",
      "Mean of Folds are =  0.69196147956\n"
     ]
    }
   ],
   "source": [
    "crs = cross_val_score(lr, train_data_bow_bigram, y_train, cv=10)\n",
    "print(\"Cross-Valid Bigram Fold Results are: \",crs)\n",
    "print(\"Mean of Folds are = \",crs.mean())"
   ]
  },
  {
   "cell_type": "code",
   "execution_count": 30,
   "metadata": {},
   "outputs": [
    {
     "name": "stdout",
     "output_type": "stream",
     "text": [
      "lam is  0.01\n",
      "Cross-Valid Ridge Fold Results are:  [ 0.54018789  0.52557411  0.53396029  0.50417973  0.52692107  0.5334728\n",
      "  0.52722513  0.5057652   0.53563941  0.52753015]\n",
      "Mean of Folds are =  0.526045578993\n",
      "\n",
      "Cross-Valid Lasso Fold Results are:  [ 0.26983299  0.26409186  0.26802508  0.26071055  0.27025614  0.26359833\n",
      "  0.26544503  0.24895178  0.25786164  0.27372837]\n",
      "Mean of Folds are =  0.264250175669\n",
      "\n",
      "lam is  0.1\n",
      "Cross-Valid Ridge Fold Results are:  [ 0.65083507  0.65187891  0.65151515  0.64838036  0.64296916  0.65794979\n",
      "  0.66125654  0.63888889  0.65251572  0.65495543]\n",
      "Mean of Folds are =  0.651114502749\n",
      "\n",
      "Cross-Valid Lasso Fold Results are:  [ 0.52974948  0.51826722  0.5276907   0.51044932  0.5300575   0.52876569\n",
      "  0.52041885  0.51677149  0.52201258  0.54116413]\n",
      "Mean of Folds are =  0.524534696144\n",
      "\n",
      "lam is  0.2\n",
      "Cross-Valid Ridge Fold Results are:  [ 0.67745303  0.67066806  0.66718913  0.66980146  0.67433351  0.67887029\n",
      "  0.68010471  0.66090147  0.66771488  0.67593078]\n",
      "Mean of Folds are =  0.672296732725\n",
      "\n",
      "Cross-Valid Lasso Fold Results are:  [ 0.59655532  0.58350731  0.5862069   0.56321839  0.58024046  0.59780335\n",
      "  0.58429319  0.56498952  0.58385744  0.59465128]\n",
      "Mean of Folds are =  0.583532316375\n",
      "\n",
      "lam is  0.3\n",
      "Cross-Valid Ridge Fold Results are:  [ 0.68319415  0.67954071  0.68077325  0.67659352  0.68583377  0.68566946\n",
      "  0.68691099  0.67295597  0.67505241  0.6785527 ]\n",
      "Mean of Folds are =  0.680507694156\n",
      "\n",
      "Cross-Valid Lasso Fold Results are:  [ 0.6263048   0.61534447  0.6091954   0.59195402  0.61212755  0.61767782\n",
      "  0.62356021  0.60220126  0.60849057  0.63083377]\n",
      "Mean of Folds are =  0.613768987086\n",
      "\n",
      "lam is  0.4\n",
      "Cross-Valid Ridge Fold Results are:  [ 0.68006263  0.68162839  0.68338558  0.68181818  0.69733403  0.68619247\n",
      "  0.6895288   0.67505241  0.67714885  0.681699  ]\n",
      "Mean of Folds are =  0.6833850341\n",
      "\n",
      "Cross-Valid Lasso Fold Results are:  [ 0.64300626  0.63361169  0.63479624  0.61912226  0.63460533  0.62761506\n",
      "  0.64397906  0.62631027  0.63155136  0.6460409 ]\n",
      "Mean of Folds are =  0.634063843882\n",
      "\n",
      "lam is  0.5\n",
      "Cross-Valid Ridge Fold Results are:  [ 0.68893528  0.68371608  0.68443051  0.68338558  0.7036069   0.68933054\n",
      "  0.69109948  0.67610063  0.67767296  0.68327216]\n",
      "Mean of Folds are =  0.68615501096\n",
      "\n",
      "Cross-Valid Lasso Fold Results are:  [ 0.65448852  0.64300626  0.65151515  0.63166144  0.64558285  0.64330544\n",
      "  0.6617801   0.64255765  0.64465409  0.65705296]\n",
      "Mean of Folds are =  0.647560447532\n",
      "\n",
      "lam is  0.6\n",
      "Cross-Valid Ridge Fold Results are:  [ 0.68893528  0.68475992  0.68234065  0.68704284  0.70569786  0.68933054\n",
      "  0.69005236  0.67924528  0.68238994  0.68379654]\n",
      "Mean of Folds are =  0.687359120432\n",
      "\n",
      "Cross-Valid Lasso Fold Results are:  [ 0.65605428  0.65031315  0.65621735  0.64367816  0.6529012   0.65219665\n",
      "  0.67172775  0.65408805  0.65461216  0.66386995]\n",
      "Mean of Folds are =  0.65556587051\n",
      "\n",
      "lam is  0.7\n",
      "Cross-Valid Ridge Fold Results are:  [ 0.69102296  0.68371608  0.68181818  0.68756531  0.70987977  0.68933054\n",
      "  0.6921466   0.67976939  0.68396226  0.68432092]\n",
      "Mean of Folds are =  0.688353201963\n",
      "\n",
      "Cross-Valid Lasso Fold Results are:  [ 0.66544885  0.6565762   0.66039707  0.65256008  0.65237846  0.65115063\n",
      "  0.67591623  0.66090147  0.66037736  0.66701626]\n",
      "Mean of Folds are =  0.6602722613\n",
      "\n",
      "lam is  0.8\n",
      "Cross-Valid Ridge Fold Results are:  [ 0.69206681  0.69154489  0.68443051  0.68704284  0.71040251  0.68880753\n",
      "  0.69267016  0.68081761  0.68448637  0.68694284]\n",
      "Mean of Folds are =  0.689921206824\n",
      "\n",
      "Cross-Valid Lasso Fold Results are:  [ 0.66492693  0.66179541  0.66875653  0.65047022  0.65760585  0.65324268\n",
      "  0.67486911  0.65985325  0.6629979   0.66177242]\n",
      "Mean of Folds are =  0.661629030137\n",
      "\n",
      "lam is  0.9\n",
      "Cross-Valid Ridge Fold Results are:  [ 0.69206681  0.69206681  0.69122257  0.68965517  0.71040251  0.68880753\n",
      "  0.69842932  0.68343816  0.6860587   0.68589407]\n",
      "Mean of Folds are =  0.691804164435\n",
      "\n",
      "Cross-Valid Lasso Fold Results are:  [ 0.66231733  0.66597077  0.66823406  0.65203762  0.65812859  0.65533473\n",
      "  0.67696335  0.66561845  0.66509434  0.6622968 ]\n",
      "Mean of Folds are =  0.663199604472\n",
      "\n",
      "lam is  1.0\n",
      "Cross-Valid Ridge Fold Results are:  [ 0.69206681  0.69258873  0.69017764  0.68913271  0.71092525  0.68985356\n",
      "  0.69685864  0.68343816  0.68867925  0.68589407]\n",
      "Mean of Folds are =  0.69196147956\n",
      "\n",
      "Cross-Valid Lasso Fold Results are:  [ 0.66388309  0.66283925  0.67084639  0.65621735  0.65917407  0.65742678\n",
      "  0.67853403  0.66823899  0.66666667  0.66439434]\n",
      "Mean of Folds are =  0.664822095789\n",
      "\n"
     ]
    }
   ],
   "source": [
    "lams = [0.01,.1,.2,.3,.4,.5,.6,.7,.8,.9,1.0]\n",
    "\n",
    "for lam in lams:\n",
    "    ridge = LogisticRegression(C=lam, penalty='l2')\n",
    "    #ridge.fit(train_data_bow, y_train)\n",
    "    crs = cross_val_score(ridge, train_data_bow_bigram, y_train, cv=10)\n",
    "    print(\"lam is \",lam)\n",
    "    print(\"Cross-Valid Ridge Fold Results are: \",crs)\n",
    "    print(\"Mean of Folds are = \",crs.mean())\n",
    "    \n",
    "    lasso = LogisticRegression(C=lam, penalty='l1')\n",
    "    #lasso.fit(train_data_bow, y_train)\n",
    "    crs = cross_val_score(lasso, train_data_bow_bigram, y_train, cv=10)\n",
    "    print()\n",
    "    print(\"Cross-Valid Lasso Fold Results are: \",crs)\n",
    "    print(\"Mean of Folds are = \",crs.mean())\n",
    "    print()\n",
    "    "
   ]
  },
  {
   "cell_type": "code",
   "execution_count": 31,
   "metadata": {},
   "outputs": [
    {
     "name": "stdout",
     "output_type": "stream",
     "text": [
      "Cross-Valid Fold Results are:  [ 0.62787056  0.60960334  0.62330199  0.59874608  0.62467329  0.61140167\n",
      "  0.62303665  0.60796646  0.60429769  0.61719979]\n",
      "Mean of Folds are =  0.614809752292\n"
     ]
    }
   ],
   "source": [
    "svcl = SVC(kernel='linear')\n",
    "crs =cross_val_score(svcl, train_data_bow_bigram, y_train, cv=10)\n",
    "print(\"Cross-Valid Fold Results are: \",crs)\n",
    "print(\"Mean of Folds are = \",crs.mean())"
   ]
  },
  {
   "cell_type": "markdown",
   "metadata": {},
   "source": [
    "* Adding bigrams is a marginal improvement.\n",
    "\n",
    "* Logistic Regression does best in cross-validation results.\n",
    "\n",
    "* Let's do a final experiment adding in trigrams."
   ]
  },
  {
   "cell_type": "markdown",
   "metadata": {},
   "source": [
    "# Trigrams #"
   ]
  },
  {
   "cell_type": "code",
   "execution_count": 32,
   "metadata": {},
   "outputs": [],
   "source": [
    "count_vect_trigram = CountVectorizer(ngram_range=(1,3))\n",
    "train_data_bow_trigram = count_vect_trigram.fit_transform(X_train['text'])\n",
    "test_data_bow_trigram = count_vect_trigram.transform(X_test['text'])"
   ]
  },
  {
   "cell_type": "code",
   "execution_count": 33,
   "metadata": {},
   "outputs": [
    {
     "name": "stdout",
     "output_type": "stream",
     "text": [
      "Cross-Valid trigram Fold Results are:  [ 0.68058455  0.68058455  0.67972832  0.67972832  0.68949294  0.68671548\n",
      "  0.69162304  0.67138365  0.67243187  0.67068694]\n",
      "Mean of Folds are =  0.680295965493\n"
     ]
    }
   ],
   "source": [
    "crs = cross_val_score(lr, train_data_bow_trigram, y_train, cv=10)\n",
    "print(\"Cross-Valid trigram Fold Results are: \",crs)\n",
    "print(\"Mean of Folds are = \",crs.mean())"
   ]
  },
  {
   "cell_type": "code",
   "execution_count": 34,
   "metadata": {},
   "outputs": [
    {
     "name": "stdout",
     "output_type": "stream",
     "text": [
      "lam is  0.01\n",
      "Cross-Valid Ridge Fold Results are:  [ 0.54018789  0.5276618   0.53500522  0.51201672  0.53110298  0.54131799\n",
      "  0.52774869  0.50890985  0.54035639  0.53015207]\n",
      "Mean of Folds are =  0.529445961146\n",
      "\n",
      "Cross-Valid Lasso Fold Results are:  [ 0.26983299  0.26409186  0.26802508  0.26071055  0.27025614  0.26412134\n",
      "  0.26544503  0.24895178  0.25786164  0.27372837]\n",
      "Mean of Folds are =  0.264302476924\n",
      "\n",
      "lam is  0.1\n",
      "Cross-Valid Ridge Fold Results are:  [ 0.64874739  0.65031315  0.64681296  0.64576803  0.64453738  0.65219665\n",
      "  0.65706806  0.63469602  0.64308176  0.65076036]\n",
      "Mean of Folds are =  0.647398175079\n",
      "\n",
      "Cross-Valid Lasso Fold Results are:  [ 0.52974948  0.51826722  0.5276907   0.51044932  0.5300575   0.52876569\n",
      "  0.52041885  0.51624738  0.52201258  0.54116413]\n",
      "Mean of Folds are =  0.524482285243\n",
      "\n",
      "lam is  0.2\n",
      "Cross-Valid Ridge Fold Results are:  [ 0.66858038  0.66701461  0.66196447  0.65935214  0.6649242   0.67207113\n",
      "  0.67434555  0.65146751  0.6567086   0.66649187]\n",
      "Mean of Folds are =  0.664292045893\n",
      "\n",
      "Cross-Valid Lasso Fold Results are:  [ 0.59551148  0.58350731  0.5862069   0.56321839  0.58024046  0.59780335\n",
      "  0.58429319  0.56498952  0.58438155  0.5941269 ]\n",
      "Mean of Folds are =  0.583427904758\n",
      "\n",
      "lam is  0.3\n",
      "Cross-Valid Ridge Fold Results are:  [ 0.67379958  0.67275574  0.67136886  0.6677116   0.6769472   0.67887029\n",
      "  0.68167539  0.6572327   0.66247379  0.67121133]\n",
      "Mean of Folds are =  0.671404649791\n",
      "\n",
      "Cross-Valid Lasso Fold Results are:  [ 0.6263048   0.61586639  0.60971787  0.59299896  0.61160481  0.61820084\n",
      "  0.62303665  0.60272537  0.60744235  0.62926062]\n",
      "Mean of Folds are =  0.613715864228\n",
      "\n",
      "lam is  0.4\n",
      "Cross-Valid Ridge Fold Results are:  [ 0.67640919  0.67327766  0.67450366  0.67189133  0.68165186  0.67730126\n",
      "  0.68429319  0.66142558  0.66509434  0.67278448]\n",
      "Mean of Folds are =  0.673863253098\n",
      "\n",
      "Cross-Valid Lasso Fold Results are:  [ 0.64352818  0.63569937  0.6353187   0.61859979  0.63408259  0.62866109\n",
      "  0.64659686  0.62631027  0.63259958  0.64708967]\n",
      "Mean of Folds are =  0.634848611489\n",
      "\n",
      "lam is  0.5\n",
      "Cross-Valid Ridge Fold Results are:  [ 0.68371608  0.67588727  0.67398119  0.67450366  0.68844746  0.68200837\n",
      "  0.68743455  0.66404612  0.66509434  0.66911379]\n",
      "Mean of Folds are =  0.676423282918\n",
      "\n",
      "Cross-Valid Lasso Fold Results are:  [ 0.65448852  0.64248434  0.64994775  0.63270637  0.64401464  0.64278243\n",
      "  0.66230366  0.64360587  0.64727463  0.65652858]\n",
      "Mean of Folds are =  0.647613679807\n",
      "\n",
      "lam is  0.6\n",
      "Cross-Valid Ridge Fold Results are:  [ 0.68267223  0.6743215   0.67607106  0.67972832  0.69001568  0.68096234\n",
      "  0.68691099  0.66509434  0.66614256  0.67016256]\n",
      "Mean of Folds are =  0.67720815863\n",
      "\n",
      "Cross-Valid Lasso Fold Results are:  [ 0.65553236  0.64926931  0.65726228  0.64576803  0.65342394  0.65219665\n",
      "  0.67277487  0.65356394  0.65566038  0.66282119]\n",
      "Mean of Folds are =  0.655827294023\n",
      "\n",
      "lam is  0.7\n",
      "Cross-Valid Ridge Fold Results are:  [ 0.68319415  0.67484342  0.67607106  0.67816092  0.69106116  0.68305439\n",
      "  0.68691099  0.66771488  0.67138365  0.67121133]\n",
      "Mean of Folds are =  0.678360596095\n",
      "\n",
      "Cross-Valid Lasso Fold Results are:  [ 0.66492693  0.65709812  0.66196447  0.65099269  0.65133298  0.65167364\n",
      "  0.67801047  0.6629979   0.65828092  0.66701626]\n",
      "Mean of Folds are =  0.660429438808\n",
      "\n",
      "lam is  0.8\n",
      "Cross-Valid Ridge Fold Results are:  [ 0.684238    0.67379958  0.67711599  0.67868339  0.6915839   0.68566946\n",
      "  0.68638743  0.66981132  0.67190776  0.67173571]\n",
      "Mean of Folds are =  0.679093252969\n",
      "\n",
      "Cross-Valid Lasso Fold Results are:  [ 0.66440501  0.66231733  0.66666667  0.64994775  0.65708312  0.65481172\n",
      "  0.67539267  0.66142558  0.66194969  0.66439434]\n",
      "Mean of Folds are =  0.661839385814\n",
      "\n",
      "lam is  0.9\n",
      "Cross-Valid Ridge Fold Results are:  [ 0.68267223  0.68006263  0.68025078  0.67972832  0.69053842  0.68462343\n",
      "  0.68586387  0.67348008  0.67243187  0.67226009]\n",
      "Mean of Folds are =  0.680191173637\n",
      "\n",
      "Cross-Valid Lasso Fold Results are:  [ 0.66127349  0.66388309  0.67084639  0.65412748  0.65865133  0.65794979\n",
      "  0.67958115  0.66457023  0.66194969  0.66596749]\n",
      "Mean of Folds are =  0.663880013285\n",
      "\n",
      "lam is  1.0\n",
      "Cross-Valid Ridge Fold Results are:  [ 0.68058455  0.68058455  0.67972832  0.67972832  0.68949294  0.68671548\n",
      "  0.69162304  0.67138365  0.67243187  0.67068694]\n",
      "Mean of Folds are =  0.680295965493\n",
      "\n",
      "Cross-Valid Lasso Fold Results are:  [ 0.66440501  0.66283925  0.66980146  0.65569488  0.65969681  0.65899582\n",
      "  0.67958115  0.66561845  0.66404612  0.6654431 ]\n",
      "Mean of Folds are =  0.664612205522\n",
      "\n"
     ]
    }
   ],
   "source": [
    "lams = [0.01,.1,.2,.3,.4,.5,.6,.7,.8,.9,1.0]\n",
    "\n",
    "for lam in lams:\n",
    "    ridge = LogisticRegression(C=lam, penalty='l2')\n",
    "    #ridge.fit(train_data_bow, y_train)\n",
    "    crs = cross_val_score(ridge, train_data_bow_trigram, y_train, cv=10)\n",
    "    print(\"lam is \",lam)\n",
    "    print(\"Cross-Valid Ridge Fold Results are: \",crs)\n",
    "    print(\"Mean of Folds are = \",crs.mean())\n",
    "    \n",
    "    lasso = LogisticRegression(C=lam, penalty='l1')\n",
    "    #lasso.fit(train_data_bow, y_train)\n",
    "    crs = cross_val_score(lasso, train_data_bow_trigram, y_train, cv=10)\n",
    "    print()\n",
    "    print(\"Cross-Valid Lasso Fold Results are: \",crs)\n",
    "    print(\"Mean of Folds are = \",crs.mean())\n",
    "    print()\n",
    "    "
   ]
  },
  {
   "cell_type": "markdown",
   "metadata": {},
   "source": [
    "# Results of Bag of Words Experiments #\n",
    "\n",
    "* Logistic regression on unigram + bigram features beats all contenders."
   ]
  },
  {
   "cell_type": "markdown",
   "metadata": {},
   "source": [
    "# Confusion Matrix #\n"
   ]
  },
  {
   "cell_type": "code",
   "execution_count": 35,
   "metadata": {},
   "outputs": [],
   "source": [
    "ats = ['elonmusk','NASA','nytimes','espn','RealJamesWoods','katyperry','ScottAdamsSays','WilliamShatner','tim_cook','BillGates']"
   ]
  },
  {
   "cell_type": "code",
   "execution_count": 37,
   "metadata": {},
   "outputs": [
    {
     "name": "stdout",
     "output_type": "stream",
     "text": [
      "Training set score: 0.97567737211\n",
      "\n",
      "Test set score: 0.686803703123\n"
     ]
    },
    {
     "data": {
      "text/plain": [
       "<matplotlib.axes._subplots.AxesSubplot at 0x7f262eb979b0>"
      ]
     },
     "execution_count": 37,
     "metadata": {},
     "output_type": "execute_result"
    },
    {
     "data": {
      "image/png": "[encoded data removed]",
      "text/plain": [
       "<matplotlib.figure.Figure at 0x7f262f7a1828>"
      ]
     },
     "metadata": {},
     "output_type": "display_data"
    }
   ],
   "source": [
    "#Confusion matrix for Bigram BOG with Logistic Regression\n",
    "\n",
    "lr = LogisticRegression()\n",
    "lr.fit(train_data_bow_bigram,y_train)\n",
    "\n",
    "print('Training set score:', lr.score(train_data_bow_bigram, y_train))\n",
    "print('\\nTest set score:', lr.score(test_data_bow_bigram, y_test))\n",
    "\n",
    "y_pred = lr.predict(test_data_bow_bigram)\n",
    "\n",
    "conf = confusion_matrix(y_test, y_pred, labels = ats)\n",
    "\n",
    "cm = pd.DataFrame(conf, index = [i for i in ats],\n",
    "                  columns = [i for i in ats])\n",
    "plt.figure(figsize = (15,7))\n",
    "sns.heatmap(cm, annot=True, cmap=\"Blues\", fmt = 'd')"
   ]
  },
  {
   "cell_type": "markdown",
   "metadata": {},
   "source": [
    "# Using TF-IDF Features #"
   ]
  },
  {
   "cell_type": "code",
   "execution_count": 20,
   "metadata": {},
   "outputs": [],
   "source": [
    "tfidf_vector =  TfidfVectorizer(norm='l2', use_idf=True, smooth_idf=False, sublinear_tf=True,\n",
    "                                max_df=0.5, # drop words with df of greater than .5                                \n",
    "                                min_df=2, # words must occur twice\n",
    "                                stop_words='english', \n",
    "                                lowercase=True, # lowercase everything\n",
    "                               )\n",
    "\n",
    "train_data_tfidf = tfidf_vector.fit_transform(X_train['text'])\n",
    "test_data_tfidf = tfidf_vector.transform(X_test['text'])\n"
   ]
  },
  {
   "cell_type": "code",
   "execution_count": 21,
   "metadata": {},
   "outputs": [
    {
     "data": {
      "text/plain": [
       "(19118, 10202)"
      ]
     },
     "execution_count": 21,
     "metadata": {},
     "output_type": "execute_result"
    }
   ],
   "source": [
    "train_data_tfidf.shape"
   ]
  },
  {
   "cell_type": "code",
   "execution_count": 22,
   "metadata": {},
   "outputs": [
    {
     "name": "stdout",
     "output_type": "stream",
     "text": [
      "Cross-Valid Fold Results are:  [ 0.56784969  0.56367432  0.56792059  0.5585162   0.56717198  0.55439331\n",
      "  0.55706806  0.56132075  0.56341719  0.56109072]\n",
      "Mean of Folds are =  0.562242280331\n"
     ]
    }
   ],
   "source": [
    "rfc = ensemble.RandomForestClassifier()\n",
    "crs = cross_val_score(rfc, train_data_tfidf, y_train, cv=10)\n",
    "print(\"Cross-Valid Fold Results are: \",crs)\n",
    "print(\"Mean of Folds are = \",crs.mean())"
   ]
  },
  {
   "cell_type": "code",
   "execution_count": 23,
   "metadata": {},
   "outputs": [
    {
     "name": "stdout",
     "output_type": "stream",
     "text": [
      "Cross-Valid Fold Results are:  [ 0.64979123  0.66753653  0.65517241  0.65569488  0.65499216  0.66213389\n",
      "  0.65445026  0.66037736  0.66457023  0.65233351]\n",
      "Mean of Folds are =  0.657705246894\n"
     ]
    }
   ],
   "source": [
    "svcl = SVC(kernel='linear')\n",
    "crs =cross_val_score(svcl, train_data_tfidf, y_train, cv=10)\n",
    "print(\"Cross-Valid Fold Results are: \",crs)\n",
    "print(\"Mean of Folds are = \",crs.mean())"
   ]
  },
  {
   "cell_type": "code",
   "execution_count": 24,
   "metadata": {},
   "outputs": [
    {
     "name": "stdout",
     "output_type": "stream",
     "text": [
      "Cross-Valid Fold Results are:  [ 0.532881    0.51983299  0.53709509  0.52560084  0.52796654  0.53556485\n",
      "  0.53874346  0.53249476  0.54454927  0.53644468]\n",
      "Mean of Folds are =  0.533117346865\n"
     ]
    }
   ],
   "source": [
    "gbc = ensemble.GradientBoostingClassifier()\n",
    "crs =cross_val_score(gbc, train_data_tfidf, y_train, cv=10)\n",
    "print(\"Cross-Valid Fold Results are: \",crs)\n",
    "print(\"Mean of Folds are = \",crs.mean())"
   ]
  },
  {
   "cell_type": "code",
   "execution_count": 25,
   "metadata": {},
   "outputs": [
    {
     "name": "stdout",
     "output_type": "stream",
     "text": [
      "Cross-Valid Fold Results are:  [ 0.66805846  0.65501044  0.66353187  0.66196447  0.66596968  0.6710251\n",
      "  0.65811518  0.67295597  0.66457023  0.66019927]\n",
      "Mean of Folds are =  0.664140067656\n"
     ]
    }
   ],
   "source": [
    "lr = LogisticRegression()\n",
    "crs = cross_val_score(lr, train_data_tfidf, y_train, cv=10)\n",
    "print(\"Cross-Valid Fold Results are: \",crs)\n",
    "print(\"Mean of Folds are = \",crs.mean())"
   ]
  },
  {
   "cell_type": "code",
   "execution_count": 26,
   "metadata": {},
   "outputs": [
    {
     "name": "stdout",
     "output_type": "stream",
     "text": [
      "lam is  0.01\n",
      "Cross-Valid Ridge Fold Results are:  [ 0.29436326  0.28914405  0.29571578  0.29832811  0.29168845  0.31066946\n",
      "  0.31099476  0.29926625  0.30293501  0.30309386]\n",
      "Mean of Folds are =  0.299619898454\n",
      "\n",
      "Cross-Valid Lasso Fold Results are:  [ 0.12160752  0.12160752  0.12173459  0.12173459  0.12127548  0.12133891\n",
      "  0.12146597  0.12159329  0.12159329  0.12165705]\n",
      "Mean of Folds are =  0.121560820584\n",
      "\n",
      "lam is  0.1\n",
      "Cross-Valid Ridge Fold Results are:  [ 0.57254697  0.57202505  0.58411703  0.57732497  0.57030842  0.5957113\n",
      "  0.59528796  0.59433962  0.58018868  0.58573676]\n",
      "Mean of Folds are =  0.58275867638\n",
      "\n",
      "Cross-Valid Lasso Fold Results are:  [ 0.36273486  0.35020877  0.36729363  0.35161964  0.35546262  0.35512552\n",
      "  0.36387435  0.3490566   0.36111111  0.36497116]\n",
      "Mean of Folds are =  0.358145826969\n",
      "\n",
      "lam is  0.2\n",
      "Cross-Valid Ridge Fold Results are:  [ 0.6085595   0.60281837  0.6123302   0.6138976   0.61160481  0.62029289\n",
      "  0.61937173  0.62264151  0.610587    0.61615102]\n",
      "Mean of Folds are =  0.613825462381\n",
      "\n",
      "Cross-Valid Lasso Fold Results are:  [ 0.46189979  0.45615866  0.45611285  0.446186    0.44851019  0.46338912\n",
      "  0.45602094  0.45178197  0.44444444  0.45936025]\n",
      "Mean of Folds are =  0.454386422965\n",
      "\n",
      "lam is  0.3\n",
      "Cross-Valid Ridge Fold Results are:  [ 0.62108559  0.61638831  0.62695925  0.63322884  0.62624151  0.63493724\n",
      "  0.63298429  0.63836478  0.62945493  0.63555322]\n",
      "Mean of Folds are =  0.629519796038\n",
      "\n",
      "Cross-Valid Lasso Fold Results are:  [ 0.50678497  0.49112735  0.48641588  0.48955068  0.49764767  0.50523013\n",
      "  0.5052356   0.4942348   0.49371069  0.50078658]\n",
      "Mean of Folds are =  0.497072434937\n",
      "\n",
      "lam is  0.4\n",
      "Cross-Valid Ridge Fold Results are:  [ 0.63100209  0.62734864  0.63479624  0.6415883   0.63408259  0.64487448\n",
      "  0.64240838  0.64412998  0.639413    0.6397483 ]\n",
      "Mean of Folds are =  0.637939198512\n",
      "\n",
      "Cross-Valid Lasso Fold Results are:  [ 0.532881    0.51826722  0.51567398  0.52507837  0.52378463  0.53190377\n",
      "  0.53246073  0.52410901  0.52777778  0.53854221]\n",
      "Mean of Folds are =  0.527047871206\n",
      "\n",
      "lam is  0.5\n",
      "Cross-Valid Ridge Fold Results are:  [ 0.63987474  0.63674322  0.63740857  0.64420063  0.63878725  0.64853556\n",
      "  0.64816754  0.65041929  0.64465409  0.64866282]\n",
      "Mean of Folds are =  0.643745369521\n",
      "\n",
      "Cross-Valid Lasso Fold Results are:  [ 0.55897704  0.54175365  0.53970742  0.54911181  0.54103502  0.55439331\n",
      "  0.55863874  0.5524109   0.55083857  0.55742003]\n",
      "Mean of Folds are =  0.550428649546\n",
      "\n",
      "lam is  0.6\n",
      "Cross-Valid Ridge Fold Results are:  [ 0.64561587  0.64091858  0.64263323  0.64942529  0.64453738  0.65481172\n",
      "  0.65183246  0.65461216  0.64884696  0.65233351]\n",
      "Mean of Folds are =  0.648556714265\n",
      "\n",
      "Cross-Valid Lasso Fold Results are:  [ 0.56941545  0.55793319  0.55903866  0.56635319  0.55985363  0.57269874\n",
      "  0.57643979  0.57494759  0.57232704  0.57000524]\n",
      "Mean of Folds are =  0.567901253788\n",
      "\n",
      "lam is  0.7\n",
      "Cross-Valid Ridge Fold Results are:  [ 0.65031315  0.64561587  0.64890282  0.65047022  0.64715107  0.66108787\n",
      "  0.65445026  0.65880503  0.65356394  0.65652858]\n",
      "Mean of Folds are =  0.652688881071\n",
      "\n",
      "Cross-Valid Lasso Fold Results are:  [ 0.57672234  0.56889353  0.57523511  0.58098224  0.57919498  0.57949791\n",
      "  0.58429319  0.58805031  0.58490566  0.58416361]\n",
      "Mean of Folds are =  0.580193887824\n",
      "\n",
      "lam is  0.8\n",
      "Cross-Valid Ridge Fold Results are:  [ 0.65344468  0.64926931  0.65047022  0.65569488  0.6529012   0.66841004\n",
      "  0.65706806  0.66037736  0.65880503  0.6560042 ]\n",
      "Mean of Folds are =  0.656244497872\n",
      "\n",
      "Cross-Valid Lasso Fold Results are:  [ 0.58663883  0.58246347  0.59352142  0.59247649  0.58860429  0.59361925\n",
      "  0.59162304  0.60010482  0.59958071  0.5909806 ]\n",
      "Mean of Folds are =  0.591961290895\n",
      "\n",
      "lam is  0.9\n",
      "Cross-Valid Ridge Fold Results are:  [ 0.65605428  0.65135699  0.6630094   0.65935214  0.66021955  0.66945607\n",
      "  0.65706806  0.6629979   0.66194969  0.65810173]\n",
      "Mean of Folds are =  0.659956581977\n",
      "\n",
      "Cross-Valid Lasso Fold Results are:  [ 0.59029228  0.5908142   0.60292581  0.59874608  0.59958181  0.60617155\n",
      "  0.59895288  0.61163522  0.60849057  0.59779759]\n",
      "Mean of Folds are =  0.600540797352\n",
      "\n",
      "lam is  1.0\n",
      "Cross-Valid Ridge Fold Results are:  [ 0.66805846  0.65501044  0.66353187  0.66196447  0.66596968  0.6710251\n",
      "  0.65811518  0.67295597  0.66457023  0.66019927]\n",
      "Mean of Folds are =  0.664140067656\n",
      "\n",
      "Cross-Valid Lasso Fold Results are:  [ 0.59394572  0.59916493  0.60971787  0.60501567  0.60533194  0.61035565\n",
      "  0.60680628  0.62054507  0.61373166  0.60356581]\n",
      "Mean of Folds are =  0.606818059985\n",
      "\n"
     ]
    }
   ],
   "source": [
    "lams = [0.01,.1,.2,.3,.4,.5,.6,.7,.8,.9,1.0]\n",
    "\n",
    "for lam in lams:\n",
    "    ridge = LogisticRegression(C=lam, penalty='l2')\n",
    "    #ridge.fit(train_data_bow, y_train)\n",
    "    crs = cross_val_score(ridge, train_data_tfidf, y_train, cv=10)\n",
    "    print(\"lam is \",lam)\n",
    "    print(\"Cross-Valid Ridge Fold Results are: \",crs)\n",
    "    print(\"Mean of Folds are = \",crs.mean())\n",
    "    \n",
    "    lasso = LogisticRegression(C=lam, penalty='l1')\n",
    "    #lasso.fit(train_data_bow, y_train)\n",
    "    crs = cross_val_score(lasso, train_data_tfidf, y_train, cv=10)\n",
    "    print()\n",
    "    print(\"Cross-Valid Lasso Fold Results are: \",crs)\n",
    "    print(\"Mean of Folds are = \",crs.mean())\n",
    "    print()"
   ]
  },
  {
   "cell_type": "markdown",
   "metadata": {},
   "source": [
    "# With Stop Words #"
   ]
  },
  {
   "cell_type": "code",
   "execution_count": 19,
   "metadata": {},
   "outputs": [],
   "source": [
    "tfidf_vector1 =  TfidfVectorizer(norm='l2', use_idf=True, smooth_idf=False, sublinear_tf=True,\n",
    "                                max_df=0.5, # drop words with df of greater than .5                                \n",
    "                                min_df=2, # words must occur twice \n",
    "                                lowercase=True, # lowercase everything\n",
    "                               )\n",
    "\n",
    "train_data_tfidf1 = tfidf_vector1.fit_transform(X_train['text'])\n",
    "test_data_tfidf1 = tfidf_vector1.transform(X_test['text'])\n"
   ]
  },
  {
   "cell_type": "code",
   "execution_count": 20,
   "metadata": {},
   "outputs": [
    {
     "name": "stdout",
     "output_type": "stream",
     "text": [
      "Cross-Valid Fold Results are:  [ 0.67745303  0.66649269  0.66666667  0.669279    0.67903816  0.68305439\n",
      "  0.67486911  0.66457023  0.67819706  0.67226009]\n",
      "Mean of Folds are =  0.673188043698\n"
     ]
    }
   ],
   "source": [
    "lr = LogisticRegression()\n",
    "crs = cross_val_score(lr, train_data_tfidf1, y_train, cv=10)\n",
    "print(\"Cross-Valid Fold Results are: \",crs)\n",
    "print(\"Mean of Folds are = \",crs.mean())"
   ]
  },
  {
   "cell_type": "markdown",
   "metadata": {},
   "source": [
    "* Results improve marginally with stop words included"
   ]
  },
  {
   "cell_type": "code",
   "execution_count": 21,
   "metadata": {},
   "outputs": [],
   "source": [
    "ats = ['elonmusk','NASA','nytimes','espn','RealJamesWoods','katyperry','ScottAdamsSays','WilliamShatner','tim_cook','BillGates']"
   ]
  },
  {
   "cell_type": "code",
   "execution_count": 32,
   "metadata": {},
   "outputs": [
    {
     "name": "stdout",
     "output_type": "stream",
     "text": [
      "Training set score: 0.81525264149\n",
      "\n",
      "Test set score: 0.679899576338\n"
     ]
    },
    {
     "data": {
      "text/plain": [
       "<matplotlib.axes._subplots.AxesSubplot at 0x7f79c47a9b70>"
      ]
     },
     "execution_count": 32,
     "metadata": {},
     "output_type": "execute_result"
    },
    {
     "data": {
      "image/png": "[encoded data removed]",
      "text/plain": [
       "<matplotlib.figure.Figure at 0x7f79c47d4dd8>"
      ]
     },
     "metadata": {},
     "output_type": "display_data"
    }
   ],
   "source": [
    "#Confusion matrix for Bigram BOG with Logistic Regression\n",
    "\n",
    "lr = LogisticRegression()\n",
    "lr.fit(train_data_tfidf1,y_train)\n",
    "\n",
    "print('Training set score:', lr.score(train_data_tfidf1, y_train))\n",
    "print('\\nTest set score:', lr.score(test_data_tfidf1, y_test))\n",
    "\n",
    "y_pred = lr.predict(test_data_tfidf1)\n",
    "\n",
    "conf = confusion_matrix(y_test, y_pred, labels = ats)\n",
    "\n",
    "cm = pd.DataFrame(conf, index = [i for i in ats],\n",
    "                  columns = [i for i in ats])\n",
    "plt.figure(figsize = (15,7))\n",
    "sns.heatmap(cm, annot=True, cmap=\"Blues\", fmt = 'd')"
   ]
  },
  {
   "cell_type": "markdown",
   "metadata": {},
   "source": [
    "# Tfidf Results #\n",
    "\n",
    "* Overall results are slightly better with Bag of Word - Unigram + Bigram"
   ]
  },
  {
   "cell_type": "markdown",
   "metadata": {},
   "source": [
    "# Experiments with Clustering - KMeans and LSA #"
   ]
  },
  {
   "cell_type": "code",
   "execution_count": 65,
   "metadata": {},
   "outputs": [],
   "source": [
    "X = total_data['text']\n",
    "y = total_data['author']"
   ]
  },
  {
   "cell_type": "code",
   "execution_count": 72,
   "metadata": {},
   "outputs": [
    {
     "name": "stdout",
     "output_type": "stream",
     "text": [
      "Homogeneity Score is: 0.018\n",
      "Completeness Score: 0.039\n",
      "V-measure Score: 0.025\n",
      "Adjusted Rand-Index Score: 0.007\n",
      "Silhouette Coefficient Score: 0.008\n"
     ]
    }
   ],
   "source": [
    "# normalize Tfidf data with stop words to kmeans cluster\n",
    "# tfidf and kmeans clustering on entire X dataset for unsupervised purposes\n",
    "\n",
    "# X = total_data.drop(['author'])\n",
    "# y = total_data['author']\n",
    "\n",
    "X_tfidf = tfidf_vector1.fit_transform(X)\n",
    "#print(X_tfidf)\n",
    "from sklearn.preprocessing import normalize\n",
    "normX_tfidf = normalize(X_tfidf)\n",
    "\n",
    "# use kmeans  minibatch on 4 clusters\n",
    "\n",
    "kmeans = MiniBatchKMeans(n_clusters=4, init='k-means++', batch_size=500)\n",
    "kmeans.fit(normX_tfidf)\n",
    "\n",
    "# get some metrics on our data\n",
    "\n",
    "print(\"Homogeneity Score is: {:.3f}\".format(metrics.homogeneity_score(y, kmeans.labels_)))\n",
    "print(\"Completeness Score: {:.3f}\".format(metrics.completeness_score(y, kmeans.labels_)))\n",
    "print(\"V-measure Score: {:.3f}\".format(metrics.v_measure_score(y, kmeans.labels_)))\n",
    "print(\"Adjusted Rand-Index Score: {:.3f}\".format(metrics.adjusted_rand_score(y, kmeans.labels_)))\n",
    "print(\"Silhouette Coefficient Score: {:.3f}\".format(metrics.silhouette_score(normX_tfidf, kmeans.labels_, sample_size=5000)))"
   ]
  },
  {
   "cell_type": "code",
   "execution_count": 73,
   "metadata": {},
   "outputs": [],
   "source": [
    "# Scores in general are low\n",
    "# Clustering in tfidf space is probably not effective\n",
    "X = total_data\n",
    "X['kmcluster'] = kmeans.labels_"
   ]
  },
  {
   "cell_type": "code",
   "execution_count": 74,
   "metadata": {},
   "outputs": [],
   "source": [
    "from sklearn.utils import shuffle"
   ]
  },
  {
   "cell_type": "markdown",
   "metadata": {},
   "source": [
    "# Cluster 0 #"
   ]
  },
  {
   "cell_type": "code",
   "execution_count": 75,
   "metadata": {},
   "outputs": [
    {
     "name": "stdout",
     "output_type": "stream",
     "text": [
      "                                                   text          author\n",
      "1740  people go on a cruise to see beautiful islands...         nytimes\n",
      "1606  the new york times is observing worldpressfree...         nytimes\n",
      "854       prior to implementation of the iran nuke deal  ScottAdamsSays\n",
      "2247  that s the point if the perma hawk says we hav...  ScottAdamsSays\n",
      "188   don t want to brag or anything but that happen...        elonmusk\n",
      "318   albert pujols got his first career hit years a...            espn\n",
      "329   maybe the most underrated dramatic actor ever ...  RealJamesWoods\n",
      "2413                                    katy x moschino       katyperry\n",
      "760   a veritable no man s land off the coast of sco...         nytimes\n",
      "143   he carried out the killing then he questioned ...         nytimes\n",
      "713   no i can t say i ve ever thought about being a...  WilliamShatner\n",
      "1349  i hear him say he doesn t want to be part of t...  ScottAdamsSays\n",
      "710      we need to keep narrowing the unpaid labor gap       BillGates\n",
      "29    chag sameach to everyone around the world shar...        tim_cook\n",
      "2053  askbillg on india trip was there a bill we re ...       BillGates\n",
      "2178          i m thankful for good s andkillingthegame       katyperry\n",
      "1198  timeless of course jessica is giving him a sec...  WilliamShatner\n",
      "2174  sure persuasion and spelling are different tal...  ScottAdamsSays\n",
      "1032  hidden figures have supported our missions sin...            NASA\n",
      "2065  the most elevated spiritual experience was had...       katyperry\n",
      "3                    what did the say to the face smack            espn\n",
      "892                                 yemen is terrorists  ScottAdamsSays\n",
      "908        setting up for model handover tomorrow night        elonmusk\n",
      "2372                                    point not clear  ScottAdamsSays\n",
      "964                                                mood            espn\n",
      "1333                  i m verified on instagram as well  WilliamShatner\n",
      "2603                                          butt pick            espn\n",
      "385   new jersey has taken a decidedly liberal turn ...         nytimes\n",
      "2428  just reviewed mission params w spacex team mon...        elonmusk\n",
      "945                                                   y        elonmusk\n"
     ]
    }
   ],
   "source": [
    "print(shuffle(X[X.kmcluster == 0][['text','author']]).head(30))"
   ]
  },
  {
   "cell_type": "markdown",
   "metadata": {},
   "source": [
    "# Cluster 1 #"
   ]
  },
  {
   "cell_type": "code",
   "execution_count": 76,
   "metadata": {},
   "outputs": [
    {
     "name": "stdout",
     "output_type": "stream",
     "text": [
      "                                                   text          author\n",
      "477   looking for a book to enjoy over the holidays ...       BillGates\n",
      "1460  nice piece on a high tech pedicab and other in...       BillGates\n",
      "1387  the daca scam is a plan to pervert our sacred ...  RealJamesWoods\n",
      "1097           if only that were an option in this case  ScottAdamsSays\n",
      "1837  tony hey from recaps the global grand challeng...       BillGates\n",
      "574   here s a great investment stellar dataviz from...       BillGates\n",
      "2153  johnson based testing team from spent labor da...            NASA\n",
      "1966                      trae young from the panhandle            espn\n",
      "1304  my blog post about kanye s linguistic talent f...  ScottAdamsSays\n",
      "1846  i m co hosting the w my friend this weekend li...       katyperry\n",
      "111                         here s one theory from time  ScottAdamsSays\n",
      "923   this is the kind of innovation we need produci...       BillGates\n",
      "1935         would watch sports with this very good boy            espn\n",
      "208        is this going to be a notch productions deal  WilliamShatner\n",
      "5     more days until witness coming home a benefit ...       katyperry\n",
      "2522  hey check out this screen cap this is a great ...  WilliamShatner\n",
      "473            i made this video for your party of hate  ScottAdamsSays\n",
      "1984  w bono and to talk about foreign aid solid com...       BillGates\n",
      "532   live now get a mission update from the experts...            NASA\n",
      "203   yes take a look at this planet that discovered...            NASA\n",
      "1748  saturn s moon pandora floats next to the thin ...            NASA\n",
      "84    this worldaidsday we celebrate saving lives th...        tim_cook\n",
      "1178  up early tune in live at am et as s dragon car...            NASA\n",
      "447   btw aka daddy s disappointment elvis thanos bo...  WilliamShatner\n",
      "1240  our nasagold mission is set to launch later th...            NASA\n",
      "653   thanks to all the people like yourself who sta...  RealJamesWoods\n",
      "1113                        remember this clintonfiasco  RealJamesWoods\n",
      "1761  btw the over and under bet on how long this wi...  RealJamesWoods\n",
      "84    on this date rougned odor and jose bautista th...            espn\n",
      "1634  live now join us as we countdown to the am et ...            NASA\n"
     ]
    }
   ],
   "source": [
    "print(shuffle(X[X.kmcluster == 1][['text','author']]).head(30))"
   ]
  },
  {
   "cell_type": "markdown",
   "metadata": {},
   "source": [
    "# Results on KMeans Clustering #\n",
    "\n",
    "* In general, I defy anyone to make any sense of it at all."
   ]
  },
  {
   "cell_type": "code",
   "execution_count": 104,
   "metadata": {},
   "outputs": [],
   "source": [
    "X_train, X_test, y_train, y_test = train_test_split(X['text'], \n",
    "                                                    X['author'], test_size = 0.25, random_state = 42)"
   ]
  },
  {
   "cell_type": "code",
   "execution_count": 105,
   "metadata": {},
   "outputs": [],
   "source": [
    "normX_train_tfidf = normalize(tfidf_vector1.fit_transform(X_train))\n",
    "normX_test_tfidf = normalize(tfidf_vector1.transform(X_test))\n",
    "\n",
    "\n",
    "km = MiniBatchKMeans(n_clusters=4, init='k-means++', batch_size=5000)\n",
    "\n",
    "km.fit(normX_train_tfidf)\n",
    "km_train_label = km.labels_\n",
    "km_test_label = km.predict(normX_test_tfidf)"
   ]
  },
  {
   "cell_type": "code",
   "execution_count": 113,
   "metadata": {},
   "outputs": [],
   "source": [
    "from scipy.sparse import coo_matrix, hstack\n",
    "\n",
    "X_train_km = hstack([train_data_bow_bigram,pd.DataFrame(km_train_label)])\n",
    "X_test_km = hstack([test_data_bow_bigram,pd.DataFrame(km_test_label)])"
   ]
  },
  {
   "cell_type": "code",
   "execution_count": 115,
   "metadata": {},
   "outputs": [
    {
     "name": "stdout",
     "output_type": "stream",
     "text": [
      "Training set score: 0.97599121247\n",
      "\n",
      "Test set score: 0.688529734819\n"
     ]
    }
   ],
   "source": [
    "lr = LogisticRegression()\n",
    "lr.fit(X_train_km,y_train)\n",
    "\n",
    "print('Training set score:', lr.score(X_train_km, y_train))\n",
    "print('\\nTest set score:', lr.score(X_test_km, y_test))\n",
    "\n"
   ]
  },
  {
   "cell_type": "markdown",
   "metadata": {},
   "source": [
    "# Results #\n",
    "\n",
    "* Adding kmeans clusters to Bag of Words data appears to improve things slightly.\n",
    "\n",
    "* Not a huge effect"
   ]
  },
  {
   "cell_type": "markdown",
   "metadata": {},
   "source": [
    "# TFIDF with LDA #"
   ]
  },
  {
   "cell_type": "code",
   "execution_count": 119,
   "metadata": {},
   "outputs": [],
   "source": [
    "tfidf_vector1 =  TfidfVectorizer(norm='l2', use_idf=True, smooth_idf=False, sublinear_tf=True,\n",
    "                                max_df=0.5, # drop words with df of greater than .5                                \n",
    "                                min_df=2, # words must occur twice \n",
    "                                lowercase=True, # lowercase everything\n",
    "                               )\n",
    "\n",
    "train_data_tfidf1 = tfidf_vector1.fit_transform(X_train)\n",
    "test_data_tfidf1 = tfidf_vector1.transform(X_test)"
   ]
  },
  {
   "cell_type": "code",
   "execution_count": 121,
   "metadata": {},
   "outputs": [
    {
     "name": "stdout",
     "output_type": "stream",
     "text": [
      "Percent variance captured by all components: 30.7649064677\n",
      "Component 0:\n",
      "text\n",
      "wherein the finally passes in the race to the edge of the lemming cliff                                              0.571999\n",
      "a judge denied cbs s bid to strip shari redstone of control of the company the ruling is a blow to the cbs chief     0.570986\n",
      "in moment of delicious irony it finally took a gaggle of dirtydemocrats and leeringliberals to push the              0.566497\n",
      "in attempting to reduce the trade deficit chinese negotiators are preparing to offer the u s a package of promise    0.563785\n",
      "is it a surprise to anyone here that you live in a geographically undesirable part of the the country                0.547777\n",
      "i quote a california friend of mine the billion dollars that the moonbeam government wants to squander on the        0.536184\n",
      "i know that closet is nice and warm but it s time you admitted you are one of the creators of the ne                 0.525345\n",
      "the checkup in lullabies a chance for parent and child to bond                                                       0.524490\n",
      "this is the story of bamboo bob the ninja burglar and the stolen treasure of staten island                           0.524442\n",
      "the purpose of the parker solarprobe is to unlock the mysteries of the sun s atmosphere details                      0.524133\n",
      "Name: 0, dtype: float64\n",
      "Component 1:\n",
      "text\n",
      "i leaf you                       0.711649\n",
      "i disavow you                    0.711649\n",
      "you persuaded                    0.706813\n",
      "you conflated topics             0.705757\n",
      "you prefer virgin cartoonists    0.702170\n",
      "you misspelled                   0.698986\n",
      "snooze you lose                  0.695501\n",
      "you behaving yourself            0.693233\n",
      "sent you a dm                    0.692559\n",
      "you forgot political hack        0.671175\n",
      "Name: 1, dtype: float64\n",
      "Component 2:\n",
      "text\n",
      "yes    0.936674\n",
      "yes    0.936674\n",
      "yes    0.936674\n",
      "yes    0.936674\n",
      "yes    0.936674\n",
      "yes    0.936674\n",
      "yes    0.936674\n",
      "yes    0.936674\n",
      "yes    0.936674\n",
      "yes    0.936674\n",
      "Name: 2, dtype: float64\n",
      "Component 3:\n",
      "text\n",
      "it is                                              0.742497\n",
      "is it                                              0.742497\n",
      "duke kansas it is                                  0.712177\n",
      "this haitian tells it like it is                   0.656033\n",
      "soz it s typo                                      0.655355\n",
      "it s okay hello kitty fans kitty purry is a cat    0.653746\n",
      "it s worldautismmonth                              0.653161\n",
      "it s                                               0.653161\n",
      "it s billy shears                                  0.651008\n",
      "it defines hypocrisy                               0.648463\n",
      "Name: 3, dtype: float64\n",
      "Component 4:\n",
      "text\n",
      "this is outlander shipping                 0.765636\n",
      "this is astonishing                        0.764625\n",
      "this is glam                               0.762383\n",
      "dang this is tight                         0.761879\n",
      "this is adorbs                             0.761558\n",
      "this is awesome                            0.761252\n",
      "this is insane                             0.760919\n",
      "da fuq this is kewl                        0.760191\n",
      "this is frame worthy soros schneiderman    0.758254\n",
      "this is false                              0.754658\n",
      "Name: 4, dtype: float64\n",
      "Component 5:\n",
      "text\n",
      "resolution to embody authenticity                                  0.503354\n",
      "unplug to connect                                                  0.502823\n",
      "compared to                                                        0.501752\n",
      "morning briefing here s what you need to know to start your day    0.501052\n",
      "morning briefing here s what you need to know to start your day    0.501052\n",
      "morning briefing here s what you need to know to start your day    0.501052\n",
      "morning briefing here s what you need to know to start your day    0.501052\n",
      "morning briefing here s what you need to know to start your day    0.501052\n",
      "morning briefing here s what you need to know to start your day    0.501052\n",
      "morning briefing here s what you need to know to start your day    0.501052\n",
      "Name: 5, dtype: float64\n",
      "Component 6:\n",
      "text\n",
      "evening briefing here s what you need to know at the end of the day    0.525041\n",
      "evening briefing here s what you need to know at the end of the day    0.525041\n",
      "evening briefing here s what you need to know at the end of the day    0.525041\n",
      "evening briefing here s what you need to know at the end of the day    0.525041\n",
      "evening briefing here s what you need to know at the end of the day    0.525041\n",
      "evening briefing here s what you need to know at the end of the day    0.525041\n",
      "evening briefing here s what you need to know at the end of the day    0.525041\n",
      "evening briefing here s what you need to know at the end of the day    0.525041\n",
      "evening briefing here s what you need to know at the end of the day    0.525041\n",
      "evening briefing here s what you need to know at the end of the day    0.525041\n",
      "Name: 6, dtype: float64\n",
      "Component 7:\n",
      "text\n",
      "that s disappointing           0.595531\n",
      "that subtle                    0.594732\n",
      "that s terrorism               0.594197\n",
      "that s zoolander               0.594070\n",
      "that s a universal practice    0.590428\n",
      "tried that                     0.589344\n",
      "a floor that moves             0.588714\n",
      "that wonk eye tho              0.585402\n",
      "that timeline                  0.585105\n",
      "that s hot                     0.581013\n",
      "Name: 7, dtype: float64\n",
      "Component 8:\n",
      "text\n",
      "no    0.880918\n",
      "no    0.880918\n",
      "no    0.880918\n",
      "no    0.880918\n",
      "no    0.880918\n",
      "no    0.880918\n",
      "no    0.880918\n",
      "no    0.880918\n",
      "no    0.880918\n",
      "no    0.880918\n",
      "Name: 8, dtype: float64\n",
      "Component 9:\n",
      "text\n",
      "for starters                                  0.644882\n",
      "zuck chan for prez                            0.643281\n",
      "e for effort                                  0.641392\n",
      "braces for comments                           0.641365\n",
      "justise for everybody                         0.640653\n",
      "idiot for idioms                              0.640381\n",
      "ucf for overtime                              0.637779\n",
      "vogue japan septemberissue tap for credits    0.633306\n",
      "holding for issue resolution                  0.626307\n",
      "crabitat for humanity bayou hot wings         0.618051\n",
      "Name: 9, dtype: float64\n"
     ]
    }
   ],
   "source": [
    "svd= TruncatedSVD(250)\n",
    "\n",
    "lsa = make_pipeline(svd, Normalizer(copy=False))\n",
    "# Run SVD on the training data, then project the training data.\n",
    "X_train_lsa = lsa.fit_transform(train_data_tfidf1)\n",
    "\n",
    "variance_explained=svd.explained_variance_ratio_\n",
    "total_variance = variance_explained.sum()\n",
    "print(\"Percent variance captured by all components:\",total_variance*100)\n",
    "\n",
    "#Looking at what sorts of paragraphs our solution considers similar, for the first five identified topics\n",
    "paras_by_component=pd.DataFrame(X_train_lsa,index=X_train)\n",
    "for i in range(10):\n",
    "    print('Component {}:'.format(i))\n",
    "    print(paras_by_component.loc[:,i].sort_values(ascending=False)[0:10])"
   ]
  },
  {
   "cell_type": "markdown",
   "metadata": {},
   "source": [
    "# Meanings of LDA Components #\n",
    "\n",
    "* The first component is composed of long coherent sentences.\n",
    "\n",
    "* The second component is composed of sentences that talk about action to 'you' or 'yourself'.\n",
    "\n",
    "* The third component is composed of basically 'yes' responses\n",
    "\n",
    "* The fourth component is composed of short sentences with 'it is' in them.\n",
    "\n",
    "* the fifth component is composed of short sentences with 'this is' in them."
   ]
  },
  {
   "cell_type": "code",
   "execution_count": 123,
   "metadata": {},
   "outputs": [],
   "source": [
    "X_test_lsa = lsa.transform(test_data_tfidf1)"
   ]
  },
  {
   "cell_type": "code",
   "execution_count": 124,
   "metadata": {},
   "outputs": [],
   "source": [
    "X_train_combo = hstack([X_train_km, X_train_lsa])\n",
    "X_test_combo = hstack([X_test_km, X_test_lsa])"
   ]
  },
  {
   "cell_type": "code",
   "execution_count": 126,
   "metadata": {},
   "outputs": [
    {
     "name": "stdout",
     "output_type": "stream",
     "text": [
      "Cross-Valid Fold Results are:  [ 0.69467641  0.69050104  0.69487983  0.69017764  0.70203868  0.69299163\n",
      "  0.6973822   0.68763103  0.68710692  0.68694284]\n",
      "Mean of Folds are =  0.692432822539\n"
     ]
    }
   ],
   "source": [
    "lr = LogisticRegression()\n",
    "crs = cross_val_score(lr, X_train_combo, y_train, cv=10)\n",
    "print(\"Cross-Valid Fold Results are: \",crs)\n",
    "print(\"Mean of Folds are = \",crs.mean())"
   ]
  },
  {
   "cell_type": "code",
   "execution_count": 127,
   "metadata": {},
   "outputs": [
    {
     "name": "stdout",
     "output_type": "stream",
     "text": [
      "lam is  0.01\n",
      "Cross-Valid Ridge Fold Results are:  [ 0.55532359  0.53601253  0.54963427  0.52821317  0.54260324  0.55543933\n",
      "  0.53874346  0.5351153   0.55450734  0.53854221]\n",
      "Mean of Folds are =  0.543413443826\n",
      "\n",
      "Cross-Valid Lasso Fold Results are:  [ 0.26304802  0.26409186  0.26698015  0.2539185   0.2843701   0.27144351\n",
      "  0.25759162  0.23951782  0.2557652   0.26586261]\n",
      "Mean of Folds are =  0.262258938363\n",
      "\n",
      "lam is  0.1\n",
      "Cross-Valid Ridge Fold Results are:  [ 0.65814196  0.64822547  0.65517241  0.64890282  0.64715107  0.65899582\n",
      "  0.65706806  0.64675052  0.65513627  0.66596749]\n",
      "Mean of Folds are =  0.654151189826\n",
      "\n",
      "Cross-Valid Lasso Fold Results are:  [ 0.53601253  0.52453027  0.52873563  0.52089864  0.52953476  0.5292887\n",
      "  0.53193717  0.52201258  0.53406709  0.54116413]\n",
      "Mean of Folds are =  0.529818150584\n",
      "\n",
      "lam is  0.2\n",
      "Cross-Valid Ridge Fold Results are:  [ 0.68058455  0.66962422  0.67398119  0.67084639  0.67067433  0.67991632\n",
      "  0.67905759  0.66509434  0.6687631   0.67435763]\n",
      "Mean of Folds are =  0.673289966973\n",
      "\n",
      "Cross-Valid Lasso Fold Results are:  [ 0.6059499   0.58559499  0.59561129  0.58359457  0.58546785  0.60094142\n",
      "  0.59005236  0.56761006  0.59381551  0.59674882]\n",
      "Mean of Folds are =  0.590538676361\n",
      "\n",
      "lam is  0.3\n",
      "Cross-Valid Ridge Fold Results are:  [ 0.68736952  0.67275574  0.67972832  0.68599791  0.6795609   0.68933054\n",
      "  0.68900524  0.67400419  0.67243187  0.68065024]\n",
      "Mean of Folds are =  0.681083446207\n",
      "\n",
      "Cross-Valid Lasso Fold Results are:  [ 0.63413361  0.62108559  0.61807732  0.60553814  0.61369577  0.62395397\n",
      "  0.62460733  0.60639413  0.61897275  0.63240692]\n",
      "Mean of Folds are =  0.61988655404\n",
      "\n",
      "lam is  0.4\n",
      "Cross-Valid Ridge Fold Results are:  [ 0.6868476   0.67745303  0.68495298  0.68913271  0.68740199  0.68933054\n",
      "  0.69005236  0.67557652  0.67714885  0.68117462]\n",
      "Mean of Folds are =  0.68390711838\n",
      "\n",
      "Cross-Valid Lasso Fold Results are:  [ 0.64352818  0.64091858  0.6400209   0.62748171  0.63094616  0.63598326\n",
      "  0.64397906  0.62159329  0.63574423  0.65285789]\n",
      "Mean of Folds are =  0.637305327366\n",
      "\n",
      "lam is  0.5\n",
      "Cross-Valid Ridge Fold Results are:  [ 0.68841336  0.67954071  0.68652038  0.69017764  0.6915839   0.69194561\n",
      "  0.69109948  0.67662474  0.68396226  0.68327216]\n",
      "Mean of Folds are =  0.686314022569\n",
      "\n",
      "Cross-Valid Lasso Fold Results are:  [ 0.65709812  0.65031315  0.65517241  0.63479624  0.64662833  0.64696653\n",
      "  0.65445026  0.639413    0.64675052  0.65810173]\n",
      "Mean of Folds are =  0.648969029944\n",
      "\n",
      "lam is  0.6\n",
      "Cross-Valid Ridge Fold Results are:  [ 0.6894572   0.68215031  0.68652038  0.68965517  0.69262938  0.69403766\n",
      "  0.69267016  0.67976939  0.68343816  0.68379654]\n",
      "Mean of Folds are =  0.68741243424\n",
      "\n",
      "Cross-Valid Lasso Fold Results are:  [ 0.66127349  0.65135699  0.65412748  0.64472309  0.64767381  0.65271967\n",
      "  0.66806283  0.65146751  0.65566038  0.66806502]\n",
      "Mean of Folds are =  0.655513026434\n",
      "\n",
      "lam is  0.7\n",
      "Cross-Valid Ridge Fold Results are:  [ 0.69258873  0.68841336  0.6922675   0.69017764  0.69628855  0.69194561\n",
      "  0.69633508  0.68396226  0.68501048  0.68379654]\n",
      "Mean of Folds are =  0.690078575139\n",
      "\n",
      "Cross-Valid Lasso Fold Results are:  [ 0.66544885  0.65866388  0.65621735  0.65517241  0.65342394  0.6584728\n",
      "  0.67120419  0.6572327   0.66247379  0.66963818]\n",
      "Mean of Folds are =  0.660794810191\n",
      "\n",
      "lam is  0.8\n",
      "Cross-Valid Ridge Fold Results are:  [ 0.69206681  0.6894572   0.6938349   0.68861024  0.69942499  0.69299163\n",
      "  0.6973822   0.68553459  0.68553459  0.68379654]\n",
      "Mean of Folds are =  0.690863368856\n",
      "\n",
      "Cross-Valid Lasso Fold Results are:  [ 0.66701461  0.66336117  0.65935214  0.65569488  0.65812859  0.6584728\n",
      "  0.67068063  0.66457023  0.66771488  0.66806502]\n",
      "Mean of Folds are =  0.663305496918\n",
      "\n",
      "lam is  0.9\n",
      "Cross-Valid Ridge Fold Results are:  [ 0.69363257  0.69102296  0.69435737  0.69122257  0.7009932   0.69089958\n",
      "  0.69685864  0.68763103  0.68553459  0.68641846]\n",
      "Mean of Folds are =  0.691857097115\n",
      "\n",
      "Cross-Valid Lasso Fold Results are:  [ 0.66492693  0.66231733  0.65935214  0.66248694  0.65185572  0.6626569\n",
      "  0.67225131  0.66719078  0.67138365  0.66858941]\n",
      "Mean of Folds are =  0.664301110692\n",
      "\n",
      "lam is  1.0\n",
      "Cross-Valid Ridge Fold Results are:  [ 0.69467641  0.69050104  0.69487983  0.69017764  0.70203868  0.69299163\n",
      "  0.6973822   0.68763103  0.68710692  0.68694284]\n",
      "Mean of Folds are =  0.692432822539\n",
      "\n",
      "Cross-Valid Lasso Fold Results are:  [ 0.66649269  0.66231733  0.66562173  0.66509927  0.65446942  0.666841\n",
      "  0.67486911  0.66928721  0.67243187  0.66911379]\n",
      "Mean of Folds are =  0.666654342677\n",
      "\n"
     ]
    }
   ],
   "source": [
    "lams = [0.01,.1,.2,.3,.4,.5,.6,.7,.8,.9,1.0]\n",
    "\n",
    "for lam in lams:\n",
    "    ridge = LogisticRegression(C=lam, penalty='l2')\n",
    "    #ridge.fit(train_data_bow, y_train)\n",
    "    crs = cross_val_score(ridge, X_train_combo, y_train, cv=10)\n",
    "    print(\"lam is \",lam)\n",
    "    print(\"Cross-Valid Ridge Fold Results are: \",crs)\n",
    "    print(\"Mean of Folds are = \",crs.mean())\n",
    "    \n",
    "    lasso = LogisticRegression(C=lam, penalty='l1')\n",
    "    #lasso.fit(train_data_bow, y_train)\n",
    "    crs = cross_val_score(lasso, X_train_combo, y_train, cv=10)\n",
    "    print()\n",
    "    print(\"Cross-Valid Lasso Fold Results are: \",crs)\n",
    "    print(\"Mean of Folds are = \",crs.mean())\n",
    "    print()"
   ]
  },
  {
   "cell_type": "markdown",
   "metadata": {},
   "source": [
    "* best overall results are with Uni-bigrams Bag of Words with LDA features added using Logistic Regression."
   ]
  }
 ],
 "metadata": {
  "kernelspec": {
   "display_name": "Python 3",
   "language": "python",
   "name": "python3"
  },
  "language_info": {
   "codemirror_mode": {
    "name": "ipython",
    "version": 3
   },
   "file_extension": ".py",
   "mimetype": "text/x-python",
   "name": "python",
   "nbconvert_exporter": "python",
   "pygments_lexer": "ipython3",
   "version": "3.6.4"
  }
 },
 "nbformat": 4,
 "nbformat_minor": 2
}
