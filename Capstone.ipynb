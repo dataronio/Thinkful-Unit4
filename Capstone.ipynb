{
 "cells": [
  {
   "cell_type": "code",
   "execution_count": 1,
   "metadata": {},
   "outputs": [],
   "source": [
    "%matplotlib inline\n",
    "import numpy as np\n",
    "import pandas as pd\n",
    "import scipy\n",
    "import sklearn\n",
    "import spacy\n",
    "import matplotlib.pyplot as plt\n",
    "import seaborn as sns\n",
    "import re\n",
    "\n",
    "from collections import Counter\n",
    "\n",
    "from sklearn.model_selection import train_test_split\n",
    "from sklearn.feature_extraction.text import TfidfVectorizer\n",
    "from sklearn.feature_extraction.text import CountVectorizer\n",
    "from sklearn.decomposition import TruncatedSVD\n",
    "from sklearn.pipeline import make_pipeline\n",
    "from sklearn.preprocessing import Normalizer\n",
    "\n",
    "from bs4 import BeautifulSoup\n",
    "from nltk.tokenize import WordPunctTokenizer\n",
    "from nltk.corpus import stopwords # Import the stop word list\n",
    "\n",
    "\n",
    "import math\n",
    "import json\n",
    "import csv\n",
    "from collections import Counter\n",
    "\n",
    "from sklearn.svm import SVC\n",
    "from sklearn.linear_model import LogisticRegression\n",
    "from sklearn.neighbors import KNeighborsClassifier\n",
    "from sklearn import neural_network\n",
    "from sklearn.model_selection import GridSearchCV\n",
    "from sklearn import ensemble\n",
    "from sklearn.decomposition import PCA\n",
    "from sklearn.cluster import MeanShift, estimate_bandwidth\n",
    "from sklearn.cluster import KMeans, MiniBatchKMeans\n",
    "from sklearn import metrics\n",
    "from sklearn.metrics import confusion_matrix\n",
    "from sklearn.metrics.pairwise import cosine_similarity\n",
    "from sklearn.model_selection import cross_val_score\n",
    "\n",
    "import warnings\n",
    "warnings.filterwarnings(\"ignore\")"
   ]
  },
  {
   "cell_type": "markdown",
   "metadata": {},
   "source": [
    "# Load Data #\n",
    "\n",
    "* We have selected 10 individuals who are business or social celebrities.\n",
    "\n",
    "* They are each extremely popular on Twitter and have tens of millions of followers."
   ]
  },
  {
   "cell_type": "code",
   "execution_count": 2,
   "metadata": {},
   "outputs": [],
   "source": [
    "elonmusk = pd.read_csv('../data/elonmusk_tweets.csv')\n",
    "NASA = pd.read_csv('../data/NASA_tweets.csv')\n",
    "nytimes = pd.read_csv('../data/nytimes_tweets.csv')\n",
    "espn = pd.read_csv('../data/espn_tweets.csv')\n",
    "JamesWoods = pd.read_csv('../data/RealJamesWoods_tweets.csv')\n",
    "katyperry = pd.read_csv('../data/katyperry_tweets.csv')\n",
    "ScottAdams = pd.read_csv('../data/ScottAdamsSays_tweets.csv')\n",
    "WilliamShatner = pd.read_csv('../data/WilliamShatner_tweets.csv')\n",
    "tim_cook = pd.read_csv('../data/tim_cook_tweets.csv')\n",
    "BillGates = pd.read_csv('../data/BillGates_tweets.csv')"
   ]
  },
  {
   "cell_type": "code",
   "execution_count": 27,
   "metadata": {},
   "outputs": [
    {
     "data": {
      "text/html": [
       "<div>\n",
       "<style scoped>\n",
       "    .dataframe tbody tr th:only-of-type {\n",
       "        vertical-align: middle;\n",
       "    }\n",
       "\n",
       "    .dataframe tbody tr th {\n",
       "        vertical-align: top;\n",
       "    }\n",
       "\n",
       "    .dataframe thead th {\n",
       "        text-align: right;\n",
       "    }\n",
       "</style>\n",
       "<table border=\"1\" class=\"dataframe\">\n",
       "  <thead>\n",
       "    <tr style=\"text-align: right;\">\n",
       "      <th></th>\n",
       "      <th>text</th>\n",
       "      <th>author</th>\n",
       "    </tr>\n",
       "  </thead>\n",
       "  <tbody>\n",
       "    <tr>\n",
       "      <th>0</th>\n",
       "      <td>biased hater like yourself evidently</td>\n",
       "      <td>ScottAdamsSays</td>\n",
       "    </tr>\n",
       "    <tr>\n",
       "      <th>1</th>\n",
       "      <td>rarely does any one variable explain this sort...</td>\n",
       "      <td>ScottAdamsSays</td>\n",
       "    </tr>\n",
       "    <tr>\n",
       "      <th>2</th>\n",
       "      <td>the vulnerable population is unknown because n...</td>\n",
       "      <td>ScottAdamsSays</td>\n",
       "    </tr>\n",
       "    <tr>\n",
       "      <th>3</th>\n",
       "      <td>thanks for noticing</td>\n",
       "      <td>ScottAdamsSays</td>\n",
       "    </tr>\n",
       "    <tr>\n",
       "      <th>4</th>\n",
       "      <td>these studies don t address my point that it m...</td>\n",
       "      <td>ScottAdamsSays</td>\n",
       "    </tr>\n",
       "  </tbody>\n",
       "</table>\n",
       "</div>"
      ],
      "text/plain": [
       "                                                text          author\n",
       "0               biased hater like yourself evidently  ScottAdamsSays\n",
       "1  rarely does any one variable explain this sort...  ScottAdamsSays\n",
       "2  the vulnerable population is unknown because n...  ScottAdamsSays\n",
       "3                                thanks for noticing  ScottAdamsSays\n",
       "4  these studies don t address my point that it m...  ScottAdamsSays"
      ]
     },
     "execution_count": 27,
     "metadata": {},
     "output_type": "execute_result"
    }
   ],
   "source": [
    "ScottAdams.head()"
   ]
  },
  {
   "cell_type": "markdown",
   "metadata": {},
   "source": [
    "# Tokenizer #\n",
    "\n",
    "* Step 1 - Call Beautiful Soup to clean out HTML fragments in tweets.\n",
    "\n",
    "* Step 2 - Strip url's and keep only letters and numbers\n",
    "\n",
    "* Step 3 - Strip out utf-8 tags\n",
    "\n",
    "* Step 4 - Lower case and tokenize"
   ]
  },
  {
   "cell_type": "code",
   "execution_count": 3,
   "metadata": {},
   "outputs": [],
   "source": [
    "\n",
    "tok = WordPunctTokenizer()\n",
    "pat1 = r'@[A-Za-z0-9]+'\n",
    "pat2 = r'https?://[A-Za-z0-9./]+'\n",
    "combined_pat = r'|'.join((pat1, pat2))\n",
    "\n",
    "def clean_tweet(raw_tweet):\n",
    "    # 1. Remove HTML\n",
    "    soup = BeautifulSoup(raw_tweet)\n",
    "    souped = soup.get_text()\n",
    "    #\n",
    "    # 2. Remove non-letters        \n",
    "    #letters_only = re.sub(\"[^a-zA-Z]\", \" \", review_text)\n",
    "    stripped = re.sub(combined_pat, '', souped)\n",
    "    try:\n",
    "        clean = stripped.decode(\"utf-8-sig\").replace(u\"\\ufffd\", \"?\")\n",
    "    except:\n",
    "        clean = stripped\n",
    "    letters_only = re.sub(\"[^a-zA-Z]\", \" \", clean)\n",
    "    #\n",
    "    # 3. Convert to lower case, split into individual words\n",
    "    lower_case = letters_only.lower()                             \n",
    "    #\n",
    "    # 4. In Python, searching a set is much faster than searching\n",
    "    #   a list, so convert the stop words to a set\n",
    "    #stops = set(stopwords.words(\"english\"))                  \n",
    "    # \n",
    "    # 5. Remove stop words\n",
    "    #meaningful_words = [w for w in words if not w in stops]   \n",
    "    #\n",
    "    # 6. Join the words back into one string separated by space, \n",
    "    # and return the result.\n",
    "    #return( \" \".join( meaningful_words ))   \n",
    "    words = tok.tokenize(lower_case)\n",
    "    return (\" \".join(words)).strip()\n",
    "    "
   ]
  },
  {
   "cell_type": "code",
   "execution_count": 5,
   "metadata": {},
   "outputs": [],
   "source": [
    "tweeters = [elonmusk,NASA,nytimes,espn,JamesWoods,katyperry,ScottAdams,WilliamShatner,tim_cook,BillGates]\n",
    "for item in tweeters:\n",
    "    for i in range(len(item)):\n",
    "        item['text'][i] = clean_tweet(item['text'][i])"
   ]
  },
  {
   "cell_type": "code",
   "execution_count": 6,
   "metadata": {},
   "outputs": [
    {
     "data": {
      "text/html": [
       "<div>\n",
       "<style scoped>\n",
       "    .dataframe tbody tr th:only-of-type {\n",
       "        vertical-align: middle;\n",
       "    }\n",
       "\n",
       "    .dataframe tbody tr th {\n",
       "        vertical-align: top;\n",
       "    }\n",
       "\n",
       "    .dataframe thead th {\n",
       "        text-align: right;\n",
       "    }\n",
       "</style>\n",
       "<table border=\"1\" class=\"dataframe\">\n",
       "  <thead>\n",
       "    <tr style=\"text-align: right;\">\n",
       "      <th></th>\n",
       "      <th>text</th>\n",
       "      <th>author</th>\n",
       "    </tr>\n",
       "  </thead>\n",
       "  <tbody>\n",
       "    <tr>\n",
       "      <th>0</th>\n",
       "      <td>at smarter advising is helping students go fur...</td>\n",
       "      <td>BillGates</td>\n",
       "    </tr>\n",
       "    <tr>\n",
       "      <th>1</th>\n",
       "      <td>glad to see this story told i m always inspire...</td>\n",
       "      <td>BillGates</td>\n",
       "    </tr>\n",
       "    <tr>\n",
       "      <th>2</th>\n",
       "      <td>in the early days of microsoft i felt pretty c...</td>\n",
       "      <td>BillGates</td>\n",
       "    </tr>\n",
       "    <tr>\n",
       "      <th>3</th>\n",
       "      <td>france has been a leading champion in the figh...</td>\n",
       "      <td>BillGates</td>\n",
       "    </tr>\n",
       "    <tr>\n",
       "      <th>4</th>\n",
       "      <td>i recently caught a glimpse at the future of h...</td>\n",
       "      <td>BillGates</td>\n",
       "    </tr>\n",
       "    <tr>\n",
       "      <th>5</th>\n",
       "      <td>my visit to made me wish i could be a college ...</td>\n",
       "      <td>BillGates</td>\n",
       "    </tr>\n",
       "    <tr>\n",
       "      <th>6</th>\n",
       "      <td>exciting to see how digital tech combined with...</td>\n",
       "      <td>BillGates</td>\n",
       "    </tr>\n",
       "    <tr>\n",
       "      <th>7</th>\n",
       "      <td>dollar street is a beautiful reminder that we ...</td>\n",
       "      <td>BillGates</td>\n",
       "    </tr>\n",
       "    <tr>\n",
       "      <th>8</th>\n",
       "      <td>rt wants to thankateacher michaela raikes an i...</td>\n",
       "      <td>BillGates</td>\n",
       "    </tr>\n",
       "    <tr>\n",
       "      <th>9</th>\n",
       "      <td>cat ladies are everywhere nearly everyone has ...</td>\n",
       "      <td>BillGates</td>\n",
       "    </tr>\n",
       "    <tr>\n",
       "      <th>10</th>\n",
       "      <td>i m obsessed with this website</td>\n",
       "      <td>BillGates</td>\n",
       "    </tr>\n",
       "    <tr>\n",
       "      <th>11</th>\n",
       "      <td>i m incredibly optimistic about india s future...</td>\n",
       "      <td>BillGates</td>\n",
       "    </tr>\n",
       "    <tr>\n",
       "      <th>12</th>\n",
       "      <td>blanche caffiere changed my life she kept me c...</td>\n",
       "      <td>BillGates</td>\n",
       "    </tr>\n",
       "    <tr>\n",
       "      <th>13</th>\n",
       "      <td>real world superheroes rarely make the headlin...</td>\n",
       "      <td>BillGates</td>\n",
       "    </tr>\n",
       "    <tr>\n",
       "      <th>14</th>\n",
       "      <td>the students who joined melinda and me for thi...</td>\n",
       "      <td>BillGates</td>\n",
       "    </tr>\n",
       "    <tr>\n",
       "      <th>15</th>\n",
       "      <td>america s financial aid system is failing the ...</td>\n",
       "      <td>BillGates</td>\n",
       "    </tr>\n",
       "    <tr>\n",
       "      <th>16</th>\n",
       "      <td>a universal flu vaccine would be a huge boon t...</td>\n",
       "      <td>BillGates</td>\n",
       "    </tr>\n",
       "  </tbody>\n",
       "</table>\n",
       "</div>"
      ],
      "text/plain": [
       "                                                 text     author\n",
       "0   at smarter advising is helping students go fur...  BillGates\n",
       "1   glad to see this story told i m always inspire...  BillGates\n",
       "2   in the early days of microsoft i felt pretty c...  BillGates\n",
       "3   france has been a leading champion in the figh...  BillGates\n",
       "4   i recently caught a glimpse at the future of h...  BillGates\n",
       "5   my visit to made me wish i could be a college ...  BillGates\n",
       "6   exciting to see how digital tech combined with...  BillGates\n",
       "7   dollar street is a beautiful reminder that we ...  BillGates\n",
       "8   rt wants to thankateacher michaela raikes an i...  BillGates\n",
       "9   cat ladies are everywhere nearly everyone has ...  BillGates\n",
       "10                     i m obsessed with this website  BillGates\n",
       "11  i m incredibly optimistic about india s future...  BillGates\n",
       "12  blanche caffiere changed my life she kept me c...  BillGates\n",
       "13  real world superheroes rarely make the headlin...  BillGates\n",
       "14  the students who joined melinda and me for thi...  BillGates\n",
       "15  america s financial aid system is failing the ...  BillGates\n",
       "16  a universal flu vaccine would be a huge boon t...  BillGates"
      ]
     },
     "execution_count": 6,
     "metadata": {},
     "output_type": "execute_result"
    }
   ],
   "source": [
    "BillGates[:17]"
   ]
  },
  {
   "cell_type": "code",
   "execution_count": 7,
   "metadata": {},
   "outputs": [],
   "source": [
    "# Initialize the \"CountVectorizer\" object, which is scikit-learn's\n",
    "# bag of words tool.  \n",
    "count_vect = CountVectorizer()"
   ]
  },
  {
   "cell_type": "code",
   "execution_count": 8,
   "metadata": {},
   "outputs": [],
   "source": [
    "total_data =  pd.concat(tweeters)"
   ]
  },
  {
   "cell_type": "code",
   "execution_count": 9,
   "metadata": {},
   "outputs": [
    {
     "data": {
      "text/html": [
       "<div>\n",
       "<style scoped>\n",
       "    .dataframe tbody tr th:only-of-type {\n",
       "        vertical-align: middle;\n",
       "    }\n",
       "\n",
       "    .dataframe tbody tr th {\n",
       "        vertical-align: top;\n",
       "    }\n",
       "\n",
       "    .dataframe thead th {\n",
       "        text-align: right;\n",
       "    }\n",
       "</style>\n",
       "<table border=\"1\" class=\"dataframe\">\n",
       "  <thead>\n",
       "    <tr style=\"text-align: right;\">\n",
       "      <th></th>\n",
       "      <th>text</th>\n",
       "      <th>author</th>\n",
       "    </tr>\n",
       "  </thead>\n",
       "  <tbody>\n",
       "    <tr>\n",
       "      <th>2510</th>\n",
       "      <td>my new website is live check out www thegatesn...</td>\n",
       "      <td>BillGates</td>\n",
       "    </tr>\n",
       "    <tr>\n",
       "      <th>2511</th>\n",
       "      <td>many people are asking how hey can help in hai...</td>\n",
       "      <td>BillGates</td>\n",
       "    </tr>\n",
       "    <tr>\n",
       "      <th>2512</th>\n",
       "      <td>thanks to you and all the other people who hav...</td>\n",
       "      <td>BillGates</td>\n",
       "    </tr>\n",
       "    <tr>\n",
       "      <th>2513</th>\n",
       "      <td>thanks for your work on this it will have a re...</td>\n",
       "      <td>BillGates</td>\n",
       "    </tr>\n",
       "    <tr>\n",
       "      <th>2514</th>\n",
       "      <td>hello world hard at work on my foundation lett...</td>\n",
       "      <td>BillGates</td>\n",
       "    </tr>\n",
       "  </tbody>\n",
       "</table>\n",
       "</div>"
      ],
      "text/plain": [
       "                                                   text     author\n",
       "2510  my new website is live check out www thegatesn...  BillGates\n",
       "2511  many people are asking how hey can help in hai...  BillGates\n",
       "2512  thanks to you and all the other people who hav...  BillGates\n",
       "2513  thanks for your work on this it will have a re...  BillGates\n",
       "2514  hello world hard at work on my foundation lett...  BillGates"
      ]
     },
     "execution_count": 9,
     "metadata": {},
     "output_type": "execute_result"
    }
   ],
   "source": [
    "total_data.tail()"
   ]
  },
  {
   "cell_type": "code",
   "execution_count": 10,
   "metadata": {},
   "outputs": [
    {
     "data": {
      "text/html": [
       "<div>\n",
       "<style scoped>\n",
       "    .dataframe tbody tr th:only-of-type {\n",
       "        vertical-align: middle;\n",
       "    }\n",
       "\n",
       "    .dataframe tbody tr th {\n",
       "        vertical-align: top;\n",
       "    }\n",
       "\n",
       "    .dataframe thead th {\n",
       "        text-align: right;\n",
       "    }\n",
       "</style>\n",
       "<table border=\"1\" class=\"dataframe\">\n",
       "  <thead>\n",
       "    <tr style=\"text-align: right;\">\n",
       "      <th></th>\n",
       "      <th>text</th>\n",
       "      <th>author</th>\n",
       "    </tr>\n",
       "  </thead>\n",
       "  <tbody>\n",
       "    <tr>\n",
       "      <th>0</th>\n",
       "      <td>s yes</td>\n",
       "      <td>elonmusk</td>\n",
       "    </tr>\n",
       "    <tr>\n",
       "      <th>1</th>\n",
       "      <td>exactly</td>\n",
       "      <td>elonmusk</td>\n",
       "    </tr>\n",
       "    <tr>\n",
       "      <th>2</th>\n",
       "      <td>they can form a union whenever they want there...</td>\n",
       "      <td>elonmusk</td>\n",
       "    </tr>\n",
       "    <tr>\n",
       "      <th>3</th>\n",
       "      <td>upgrade to the latest s nothing will give you ...</td>\n",
       "      <td>elonmusk</td>\n",
       "    </tr>\n",
       "    <tr>\n",
       "      <th>4</th>\n",
       "      <td>soto they are correct it s awesome second best...</td>\n",
       "      <td>elonmusk</td>\n",
       "    </tr>\n",
       "  </tbody>\n",
       "</table>\n",
       "</div>"
      ],
      "text/plain": [
       "                                                text    author\n",
       "0                                              s yes  elonmusk\n",
       "1                                            exactly  elonmusk\n",
       "2  they can form a union whenever they want there...  elonmusk\n",
       "3  upgrade to the latest s nothing will give you ...  elonmusk\n",
       "4  soto they are correct it s awesome second best...  elonmusk"
      ]
     },
     "execution_count": 10,
     "metadata": {},
     "output_type": "execute_result"
    }
   ],
   "source": [
    "total_data.head()"
   ]
  },
  {
   "cell_type": "code",
   "execution_count": 12,
   "metadata": {},
   "outputs": [],
   "source": [
    "X = total_data.drop(['author'])\n",
    "y = total_data['author']"
   ]
  },
  {
   "cell_type": "code",
   "execution_count": 13,
   "metadata": {},
   "outputs": [],
   "source": [
    "X_train, X_test, y_train, y_test = train_test_split(X, y, test_size=0.25, random_state=42)"
   ]
  },
  {
   "cell_type": "code",
   "execution_count": 14,
   "metadata": {},
   "outputs": [],
   "source": [
    "train_data_bow = count_vect.fit_transform(X_train['text'])\n",
    "test_data_bow = count_vect.transform(X_test['text'])"
   ]
  },
  {
   "cell_type": "code",
   "execution_count": 15,
   "metadata": {},
   "outputs": [],
   "source": [
    "tfid_vect = TfidfVectorizer()"
   ]
  },
  {
   "cell_type": "code",
   "execution_count": 16,
   "metadata": {},
   "outputs": [],
   "source": [
    "train_data_tfid = tfid_vect.fit_transform(X_train['text'])\n",
    "\n",
    "test_data_tfid = tfid_vect.transform(X_test['text'])"
   ]
  },
  {
   "cell_type": "code",
   "execution_count": 17,
   "metadata": {},
   "outputs": [
    {
     "data": {
      "text/plain": [
       "(19118, 19920)"
      ]
     },
     "execution_count": 17,
     "metadata": {},
     "output_type": "execute_result"
    }
   ],
   "source": [
    "train_data_tfid.shape"
   ]
  },
  {
   "cell_type": "code",
   "execution_count": 18,
   "metadata": {},
   "outputs": [
    {
     "data": {
      "text/plain": [
       "array([0.46398747, 0.48956159, 0.46969697, 0.45924765, 0.48771563,\n",
       "       0.47646444, 0.48638743, 0.47012579, 0.4769392 , 0.47561615])"
      ]
     },
     "execution_count": 18,
     "metadata": {},
     "output_type": "execute_result"
    }
   ],
   "source": [
    "rfc = ensemble.RandomForestClassifier()\n",
    "cross_val_score(rfc, train_data_bow, y_train, cv=10)"
   ]
  },
  {
   "cell_type": "code",
   "execution_count": 19,
   "metadata": {},
   "outputs": [
    {
     "data": {
      "text/plain": [
       "array([0.69467641, 0.68528184, 0.68599791, 0.68129572, 0.69942499,\n",
       "       0.68305439, 0.70052356, 0.68658281, 0.70178197, 0.67960147])"
      ]
     },
     "execution_count": 19,
     "metadata": {},
     "output_type": "execute_result"
    }
   ],
   "source": [
    "lr = LogisticRegression()\n",
    "cross_val_score(lr, train_data_bow, y_train, cv=10)"
   ]
  },
  {
   "cell_type": "markdown",
   "metadata": {},
   "source": [
    "# Experiment with Bigrams #"
   ]
  },
  {
   "cell_type": "code",
   "execution_count": 20,
   "metadata": {},
   "outputs": [],
   "source": [
    "count_vect_bigram = CountVectorizer(ngram_range=(1,2))\n",
    "train_data_bow_bigram = count_vect_bigram.fit_transform(X_train['text'])\n",
    "test_data_bow_bigram = count_vect_bigram.transform(X_test['text'])"
   ]
  },
  {
   "cell_type": "code",
   "execution_count": 21,
   "metadata": {},
   "outputs": [
    {
     "data": {
      "text/plain": [
       "array([0.69206681, 0.69258873, 0.69017764, 0.68913271, 0.71092525,\n",
       "       0.68985356, 0.69685864, 0.68343816, 0.68867925, 0.68589407])"
      ]
     },
     "execution_count": 21,
     "metadata": {},
     "output_type": "execute_result"
    }
   ],
   "source": [
    "cross_val_score(lr, train_data_bow_bigram, y_train, cv=10)"
   ]
  },
  {
   "cell_type": "code",
   "execution_count": 28,
   "metadata": {},
   "outputs": [],
   "source": [
    "ats = ['elonmusk','NASA','nytimes','espn','RealJamesWoods','katyperry','ScottAdamsSays','WilliamShatner','tim_cook','BillGates']"
   ]
  },
  {
   "cell_type": "markdown",
   "metadata": {},
   "source": [
    "* Bigrams do not appear to be especially effective.\n",
    "\n",
    "* As they do not specifically hurt performance, they will still be used."
   ]
  },
  {
   "cell_type": "markdown",
   "metadata": {},
   "source": [
    "# Confusion Matrix #\n"
   ]
  },
  {
   "cell_type": "code",
   "execution_count": 29,
   "metadata": {},
   "outputs": [
    {
     "data": {
      "text/plain": [
       "<matplotlib.axes._subplots.AxesSubplot at 0x7f9b7fe630f0>"
      ]
     },
     "execution_count": 29,
     "metadata": {},
     "output_type": "execute_result"
    },
    {
     "data": {
      "image/png": "[encoded data removed]",
      "text/plain": [
       "<matplotlib.figure.Figure at 0x7f9b767e9320>"
      ]
     },
     "metadata": {},
     "output_type": "display_data"
    }
   ],
   "source": [
    "#Confusion matrix for Bigram BOG with Logistic Regression\n",
    "\n",
    "lr = LogisticRegression()\n",
    "lr.fit(train_data_bow_bigram,y_train)\n",
    "\n",
    "\n",
    "y_pred = lr.predict(test_data_bow_bigram)\n",
    "\n",
    "conf = confusion_matrix(y_test, y_pred, labels = ats)\n",
    "\n",
    "cm = pd.DataFrame(conf, index = [i for i in ats],\n",
    "                  columns = [i for i in ats])\n",
    "plt.figure(figsize = (15,7))\n",
    "sns.heatmap(cm, annot=True, cmap=\"Blues\", fmt = 'd')"
   ]
  },
  {
   "cell_type": "code",
   "execution_count": null,
   "metadata": {},
   "outputs": [],
   "source": []
  }
 ],
 "metadata": {
  "kernelspec": {
   "display_name": "Python 3",
   "language": "python",
   "name": "python3"
  },
  "language_info": {
   "codemirror_mode": {
    "name": "ipython",
    "version": 3
   },
   "file_extension": ".py",
   "mimetype": "text/x-python",
   "name": "python",
   "nbconvert_exporter": "python",
   "pygments_lexer": "ipython3",
   "version": "3.6.4"
  }
 },
 "nbformat": 4,
 "nbformat_minor": 2
}
